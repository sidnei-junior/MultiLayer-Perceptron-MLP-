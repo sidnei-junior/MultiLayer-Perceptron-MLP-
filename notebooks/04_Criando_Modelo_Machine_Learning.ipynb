{
 "cells": [
  {
   "cell_type": "markdown",
   "metadata": {
    "colab_type": "text",
    "id": "XPS4MCl4SMmT"
   },
   "source": [
    "# Criando um modelo de Machine Learning\n",
    "Nesse notebook vamos preparar os dados que utilizaremos ao longo do desenvolvimento do projeto. Os datasets aqui utilizados são importados do portal de dados abertos da UFRN (http://dados.ufrn.br/).\n",
    "\n",
    "Para esse estudo, analisaremos apenas os dados do curso de Ciência e Tecnologia da UFRN, mais espeficamente a disciplina de Cálculo 2, onde tentaremos prever as possiveis reprovações dos alunos se baseando em seu histórico e na nota da primeira unidade na disciplina."
   ]
  },
  {
   "cell_type": "code",
   "execution_count": 1,
   "metadata": {
    "colab": {},
    "colab_type": "code",
    "id": "0_TRQrvWR-hq"
   },
   "outputs": [],
   "source": [
    "# Import libraries\n",
    "import pandas as pd\n",
    "import numpy as np\n",
    "\n",
    "import seaborn as sns\n",
    "import matplotlib.pyplot as plt\n",
    "sns.set()"
   ]
  },
  {
   "cell_type": "code",
   "execution_count": 5,
   "metadata": {
    "colab": {},
    "colab_type": "code",
    "id": "a4ErXF3LZg0D"
   },
   "outputs": [],
   "source": [
    "# Importando os dados das matriculas\n",
    "matriculas = pd.read_csv(\"data/matriculas_c2_pos_novos_indicadores.csv\", sep=\";\")"
   ]
  },
  {
   "cell_type": "code",
   "execution_count": 6,
   "metadata": {
    "colab": {},
    "colab_type": "code",
    "id": "REVnubTNbW8E",
    "outputId": "75e9078d-6c3a-4889-c606-4405605cd001"
   },
   "outputs": [
    {
     "name": "stdout",
     "output_type": "stream",
     "text": [
      "Shape matrícula: (2404, 13)\n"
     ]
    }
   ],
   "source": [
    "print(f'Shape matrícula: {matriculas.shape}')"
   ]
  },
  {
   "cell_type": "code",
   "execution_count": 7,
   "metadata": {
    "colab": {},
    "colab_type": "code",
    "id": "qU8A8P-TpSGS",
    "outputId": "c23c92db-3088-454b-aa13-be0342c8e6ce"
   },
   "outputs": [
    {
     "data": {
      "text/plain": [
       "Index(['discente', 'faltas_unidade', 'id_turma', 'media_final', 'nota',\n",
       "       'numero_total_faltas', 'reposicao', 'unidade', 'reprovou',\n",
       "       'n1_std_turma', 'desempenho_exatas', 'primeira_vez_pagando',\n",
       "       'historico_reprovacao'],\n",
       "      dtype='object')"
      ]
     },
     "execution_count": 7,
     "metadata": {},
     "output_type": "execute_result"
    }
   ],
   "source": [
    "matriculas.columns"
   ]
  },
  {
   "cell_type": "markdown",
   "metadata": {
    "colab_type": "text",
    "id": "vfm_dpVDpSGf"
   },
   "source": [
    "## Removendo Duplicates"
   ]
  },
  {
   "cell_type": "code",
   "execution_count": 8,
   "metadata": {
    "colab": {},
    "colab_type": "code",
    "id": "RA3k6MmLpSGg"
   },
   "outputs": [],
   "source": [
    "alunos = matriculas.drop_duplicates()"
   ]
  },
  {
   "cell_type": "code",
   "execution_count": 9,
   "metadata": {
    "colab": {},
    "colab_type": "code",
    "id": "lHS914vYpSGk",
    "outputId": "8d764371-ed11-48ad-8377-7c56f5b12c99"
   },
   "outputs": [
    {
     "data": {
      "text/plain": [
       "(2404, 13)"
      ]
     },
     "execution_count": 9,
     "metadata": {},
     "output_type": "execute_result"
    }
   ],
   "source": [
    "alunos.shape"
   ]
  },
  {
   "cell_type": "markdown",
   "metadata": {
    "colab_type": "text",
    "id": "xOCThGWOS9Vp"
   },
   "source": [
    "## Análise dos dados de matrícula do Aluno\n",
    "\n",
    "\n",
    "---\n",
    "\n",
    "\n",
    "Vamos tentar entender melhor quais das features presentes na matrícula do aluno são importantes para a predição da sua evasão."
   ]
  },
  {
   "cell_type": "code",
   "execution_count": 11,
   "metadata": {
    "colab": {},
    "colab_type": "code",
    "id": "bJQcxTj7pSGz",
    "outputId": "8117a482-fd0f-485c-fd52-0130a2e9e693",
    "scrolled": true
   },
   "outputs": [
    {
     "data": {
      "text/plain": [
       "reprovou\n",
       "False    1146\n",
       "True     1258\n",
       "Name: reprovou, dtype: int64"
      ]
     },
     "execution_count": 11,
     "metadata": {},
     "output_type": "execute_result"
    }
   ],
   "source": [
    "alunos.groupby('reprovou').reprovou.count()"
   ]
  },
  {
   "cell_type": "markdown",
   "metadata": {
    "colab_type": "text",
    "id": "PQ5bHU0LpSG3"
   },
   "source": [
    "## Feature Engineering\n",
    "Construindo novas features e preparando os dados"
   ]
  },
  {
   "cell_type": "code",
   "execution_count": 12,
   "metadata": {},
   "outputs": [
    {
     "data": {
      "text/plain": [
       "Index(['discente', 'faltas_unidade', 'id_turma', 'media_final', 'nota',\n",
       "       'numero_total_faltas', 'reposicao', 'unidade', 'reprovou',\n",
       "       'n1_std_turma', 'desempenho_exatas', 'primeira_vez_pagando',\n",
       "       'historico_reprovacao'],\n",
       "      dtype='object')"
      ]
     },
     "execution_count": 12,
     "metadata": {},
     "output_type": "execute_result"
    }
   ],
   "source": [
    "alunos.columns"
   ]
  },
  {
   "cell_type": "code",
   "execution_count": 13,
   "metadata": {},
   "outputs": [],
   "source": [
    "alunos = alunos[['nota', 'n1_std_turma', 'desempenho_exatas', 'primeira_vez_pagando',\n",
    "       'historico_reprovacao', 'reprovou']]"
   ]
  },
  {
   "cell_type": "markdown",
   "metadata": {
    "colab_type": "text",
    "id": "2pvunQwYpSIs"
   },
   "source": [
    "## Análisando Correlações"
   ]
  },
  {
   "cell_type": "code",
   "execution_count": 14,
   "metadata": {
    "colab": {},
    "colab_type": "code",
    "id": "DkpnPuj8pSIs",
    "outputId": "3cf044a3-abb6-4b0d-e062-888a3c92438e"
   },
   "outputs": [
    {
     "data": {
      "text/html": [
       "<div>\n",
       "<style scoped>\n",
       "    .dataframe tbody tr th:only-of-type {\n",
       "        vertical-align: middle;\n",
       "    }\n",
       "\n",
       "    .dataframe tbody tr th {\n",
       "        vertical-align: top;\n",
       "    }\n",
       "\n",
       "    .dataframe thead th {\n",
       "        text-align: right;\n",
       "    }\n",
       "</style>\n",
       "<table border=\"1\" class=\"dataframe\">\n",
       "  <thead>\n",
       "    <tr style=\"text-align: right;\">\n",
       "      <th></th>\n",
       "      <th>nota</th>\n",
       "      <th>n1_std_turma</th>\n",
       "      <th>desempenho_exatas</th>\n",
       "      <th>primeira_vez_pagando</th>\n",
       "      <th>historico_reprovacao</th>\n",
       "      <th>reprovou</th>\n",
       "    </tr>\n",
       "  </thead>\n",
       "  <tbody>\n",
       "    <tr>\n",
       "      <th>nota</th>\n",
       "      <td>1.000000</td>\n",
       "      <td>0.912687</td>\n",
       "      <td>0.238527</td>\n",
       "      <td>-0.042486</td>\n",
       "      <td>0.029237</td>\n",
       "      <td>-0.674089</td>\n",
       "    </tr>\n",
       "    <tr>\n",
       "      <th>n1_std_turma</th>\n",
       "      <td>0.912687</td>\n",
       "      <td>1.000000</td>\n",
       "      <td>0.159883</td>\n",
       "      <td>-0.076221</td>\n",
       "      <td>-0.054385</td>\n",
       "      <td>-0.585090</td>\n",
       "    </tr>\n",
       "    <tr>\n",
       "      <th>desempenho_exatas</th>\n",
       "      <td>0.238527</td>\n",
       "      <td>0.159883</td>\n",
       "      <td>1.000000</td>\n",
       "      <td>0.003082</td>\n",
       "      <td>0.492719</td>\n",
       "      <td>-0.258313</td>\n",
       "    </tr>\n",
       "    <tr>\n",
       "      <th>primeira_vez_pagando</th>\n",
       "      <td>-0.042486</td>\n",
       "      <td>-0.076221</td>\n",
       "      <td>0.003082</td>\n",
       "      <td>1.000000</td>\n",
       "      <td>0.561977</td>\n",
       "      <td>0.020696</td>\n",
       "    </tr>\n",
       "    <tr>\n",
       "      <th>historico_reprovacao</th>\n",
       "      <td>0.029237</td>\n",
       "      <td>-0.054385</td>\n",
       "      <td>0.492719</td>\n",
       "      <td>0.561977</td>\n",
       "      <td>1.000000</td>\n",
       "      <td>-0.077431</td>\n",
       "    </tr>\n",
       "    <tr>\n",
       "      <th>reprovou</th>\n",
       "      <td>-0.674089</td>\n",
       "      <td>-0.585090</td>\n",
       "      <td>-0.258313</td>\n",
       "      <td>0.020696</td>\n",
       "      <td>-0.077431</td>\n",
       "      <td>1.000000</td>\n",
       "    </tr>\n",
       "  </tbody>\n",
       "</table>\n",
       "</div>"
      ],
      "text/plain": [
       "                          nota  n1_std_turma  desempenho_exatas  \\\n",
       "nota                  1.000000      0.912687           0.238527   \n",
       "n1_std_turma          0.912687      1.000000           0.159883   \n",
       "desempenho_exatas     0.238527      0.159883           1.000000   \n",
       "primeira_vez_pagando -0.042486     -0.076221           0.003082   \n",
       "historico_reprovacao  0.029237     -0.054385           0.492719   \n",
       "reprovou             -0.674089     -0.585090          -0.258313   \n",
       "\n",
       "                      primeira_vez_pagando  historico_reprovacao  reprovou  \n",
       "nota                             -0.042486              0.029237 -0.674089  \n",
       "n1_std_turma                     -0.076221             -0.054385 -0.585090  \n",
       "desempenho_exatas                 0.003082              0.492719 -0.258313  \n",
       "primeira_vez_pagando              1.000000              0.561977  0.020696  \n",
       "historico_reprovacao              0.561977              1.000000 -0.077431  \n",
       "reprovou                          0.020696             -0.077431  1.000000  "
      ]
     },
     "execution_count": 14,
     "metadata": {},
     "output_type": "execute_result"
    }
   ],
   "source": [
    "num_corr_matrix = alunos.corr()\n",
    "num_corr_target = num_corr_matrix['reprovou'].sort_values(ascending=False)\n",
    "num_corr_matrix"
   ]
  },
  {
   "cell_type": "code",
   "execution_count": 15,
   "metadata": {
    "colab": {},
    "colab_type": "code",
    "id": "vzkSi8CqpSIy",
    "outputId": "1cf4d5b5-d454-4db2-d702-5e864ef24a04"
   },
   "outputs": [
    {
     "data": {
      "text/plain": [
       "<matplotlib.axes._subplots.AxesSubplot at 0x7fe61922f780>"
      ]
     },
     "execution_count": 15,
     "metadata": {},
     "output_type": "execute_result"
    },
    {
     "data": {
      "image/png": "[encoded data removed]",
      "text/plain": [
       "<Figure size 1080x720 with 2 Axes>"
      ]
     },
     "metadata": {
      "needs_background": "light"
     },
     "output_type": "display_data"
    }
   ],
   "source": [
    "fig, ax = plt.subplots(figsize=(15, 10))\n",
    "sns.heatmap(num_corr_matrix, ax=ax, annot=False, cmap='coolwarm', vmin=-1., vmax=1.)"
   ]
  },
  {
   "cell_type": "code",
   "execution_count": 16,
   "metadata": {
    "colab": {},
    "colab_type": "code",
    "id": "7cH1wH1CpSJN",
    "outputId": "322889f9-73be-4d83-dee5-0e698f6e590c"
   },
   "outputs": [
    {
     "data": {
      "text/plain": [
       "nota                    0\n",
       "n1_std_turma            0\n",
       "desempenho_exatas       0\n",
       "primeira_vez_pagando    0\n",
       "historico_reprovacao    0\n",
       "reprovou                0\n",
       "dtype: int64"
      ]
     },
     "execution_count": 16,
     "metadata": {},
     "output_type": "execute_result"
    }
   ],
   "source": [
    "alunos.isna().sum()"
   ]
  },
  {
   "cell_type": "markdown",
   "metadata": {
    "colab_type": "text",
    "id": "x8MxAEQvo8nA"
   },
   "source": [
    "# Análise do Modelo de Machine Learning\n",
    "Apresentando os resultados encontrados com o algoritmo RandomFlorestClassifier. Esse algoritmo está sendo utilizado por padrão nessa análise pois apresentou um resultado satisfatório nos testes apresentados anteriormente."
   ]
  },
  {
   "cell_type": "markdown",
   "metadata": {
    "colab_type": "text",
    "id": "EXKODK7ypTcC"
   },
   "source": [
    "Segundo a Matriz de Confusão a taxa de dispersão dos "
   ]
  },
  {
   "cell_type": "code",
   "execution_count": 17,
   "metadata": {
    "colab": {},
    "colab_type": "code",
    "id": "WG3NEvbYpDo4"
   },
   "outputs": [],
   "source": [
    "from sklearn.model_selection import train_test_split"
   ]
  },
  {
   "cell_type": "code",
   "execution_count": 20,
   "metadata": {
    "colab": {},
    "colab_type": "code",
    "id": "K5bJtPoBpSJX",
    "outputId": "533227e0-8204-4297-9ef8-d6985ef56732"
   },
   "outputs": [
    {
     "data": {
      "text/plain": [
       "(2404,)"
      ]
     },
     "execution_count": 20,
     "metadata": {},
     "output_type": "execute_result"
    }
   ],
   "source": [
    "X = alunos.drop(\"reprovou\", axis=1)\n",
    "y = alunos.reprovou.values\n",
    "\n",
    "y.shape"
   ]
  },
  {
   "cell_type": "code",
   "execution_count": 21,
   "metadata": {
    "colab": {},
    "colab_type": "code",
    "id": "I-wf_27XpSJa"
   },
   "outputs": [],
   "source": [
    "# Split data\n",
    "X_train, X_test, y_train, y_test = train_test_split(X, y, test_size=.2)"
   ]
  },
  {
   "cell_type": "markdown",
   "metadata": {
    "colab_type": "text",
    "id": "4efHlzWrpSJd"
   },
   "source": [
    "### Preparando os modelos"
   ]
  },
  {
   "cell_type": "code",
   "execution_count": 22,
   "metadata": {
    "colab": {},
    "colab_type": "code",
    "id": "vNNaCIOtpSJd"
   },
   "outputs": [],
   "source": [
    "from sklearn.ensemble import RandomForestClassifier\n",
    "from sklearn.metrics import accuracy_score\n",
    "from sklearn.metrics import confusion_matrix"
   ]
  },
  {
   "cell_type": "code",
   "execution_count": 23,
   "metadata": {
    "colab": {},
    "colab_type": "code",
    "id": "Yr4CbOPepSJf"
   },
   "outputs": [],
   "source": [
    "clf = RandomForestClassifier(class_weight = 'balanced', n_estimators=10)"
   ]
  },
  {
   "cell_type": "code",
   "execution_count": 24,
   "metadata": {
    "colab": {},
    "colab_type": "code",
    "id": "D1XgBrekpSJh",
    "outputId": "97e413a9-5fdd-4d06-a79d-0889dfafcd13"
   },
   "outputs": [
    {
     "data": {
      "text/plain": [
       "RandomForestClassifier(bootstrap=True, class_weight='balanced',\n",
       "            criterion='gini', max_depth=None, max_features='auto',\n",
       "            max_leaf_nodes=None, min_impurity_decrease=0.0,\n",
       "            min_impurity_split=None, min_samples_leaf=1,\n",
       "            min_samples_split=2, min_weight_fraction_leaf=0.0,\n",
       "            n_estimators=10, n_jobs=None, oob_score=False,\n",
       "            random_state=None, verbose=0, warm_start=False)"
      ]
     },
     "execution_count": 24,
     "metadata": {},
     "output_type": "execute_result"
    }
   ],
   "source": [
    "clf.fit(X_train, y_train)"
   ]
  },
  {
   "cell_type": "markdown",
   "metadata": {},
   "source": [
    "### Grid Search\n",
    "Só rodar na primeira vez de cada teste."
   ]
  },
  {
   "cell_type": "code",
   "execution_count": 38,
   "metadata": {
    "colab": {},
    "colab_type": "code",
    "id": "oCTZ-BA1pSJj"
   },
   "outputs": [
    {
     "name": "stderr",
     "output_type": "stream",
     "text": [
      "/home/rafael/anaconda3/lib/python3.6/site-packages/sklearn/model_selection/_split.py:2053: FutureWarning: You should specify a value for 'cv' instead of relying on the default value. The default value will change from 3 to 5 in version 0.22.\n",
      "  warnings.warn(CV_WARNING, FutureWarning)\n"
     ]
    },
    {
     "data": {
      "text/plain": [
       "GridSearchCV(cv='warn', error_score='raise-deprecating',\n",
       "       estimator=RandomForestClassifier(bootstrap=True, class_weight='balanced',\n",
       "            criterion='gini', max_depth=None, max_features='auto',\n",
       "            max_leaf_nodes=None, min_impurity_decrease=0.0,\n",
       "            min_impurity_split=None, min_samples_leaf=1,\n",
       "            min_samples_split=2, min_weight_fraction_leaf=0.0,\n",
       "            n_estimators=10, n_jobs=None, oob_score=False,\n",
       "            random_state=None, verbose=0, warm_start=False),\n",
       "       fit_params=None, iid='warn', n_jobs=None,\n",
       "       param_grid={'n_estimators': [10, 100], 'max_features': ['auto'], 'min_samples_leaf': [1, 2, 3, 5], 'bootstrap': [True, False], 'criterion': ['gini', 'entropy']},\n",
       "       pre_dispatch='2*n_jobs', refit=True, return_train_score='warn',\n",
       "       scoring=None, verbose=0)"
      ]
     },
     "execution_count": 38,
     "metadata": {},
     "output_type": "execute_result"
    }
   ],
   "source": [
    "# from sklearn.model_selection import GridSearchCV\n",
    "\n",
    "# param_grid = {\"n_estimators\": [10, 100],\n",
    "#               \"max_features\": ['auto'],\n",
    "#               \"min_samples_leaf\": [1, 2, 3, 5],\n",
    "#               \"bootstrap\": [True, False],\n",
    "#               \"criterion\": [\"gini\", \"entropy\"]}\n",
    "\n",
    "\n",
    "# grid_search = GridSearchCV(clf, param_grid = param_grid)\n",
    "# grid_search.fit(X_train, y_train)"
   ]
  },
  {
   "cell_type": "code",
   "execution_count": 39,
   "metadata": {
    "colab": {},
    "colab_type": "code",
    "id": "nfVUoyunpSJl"
   },
   "outputs": [
    {
     "data": {
      "text/plain": [
       "{'bootstrap': True,\n",
       " 'criterion': 'entropy',\n",
       " 'max_features': 'auto',\n",
       " 'min_samples_leaf': 3,\n",
       " 'n_estimators': 100}"
      ]
     },
     "execution_count": 39,
     "metadata": {},
     "output_type": "execute_result"
    }
   ],
   "source": [
    "# grid_search.best_params_"
   ]
  },
  {
   "cell_type": "code",
   "execution_count": 55,
   "metadata": {
    "colab": {},
    "colab_type": "code",
    "id": "SlUFIYVspSJn"
   },
   "outputs": [],
   "source": [
    "best_params = {'bootstrap': True,\n",
    " 'criterion': 'gini',\n",
    " 'max_features': 'auto',\n",
    " 'min_samples_leaf': 2,\n",
    " 'n_estimators': 100}\n",
    "# {'bootstrap': True,\n",
    "#  'criterion': 'entropy',\n",
    "#  'max_features': 'auto',\n",
    "#  'min_samples_leaf': 3,\n",
    "#  'n_estimators': 100}\n",
    "\n",
    "clf_best = RandomForestClassifier(bootstrap=best_params['bootstrap'], criterion=best_params['criterion'], max_features=best_params['max_features'], \n",
    "                                  min_samples_leaf=best_params['min_samples_leaf'], n_estimators=best_params['n_estimators'], class_weight = 'balanced')"
   ]
  },
  {
   "cell_type": "code",
   "execution_count": 56,
   "metadata": {
    "colab": {},
    "colab_type": "code",
    "id": "dhsbtDGqpSJo",
    "outputId": "9a0f7596-82db-464b-e910-7fe076783e06"
   },
   "outputs": [
    {
     "data": {
      "text/plain": [
       "RandomForestClassifier(bootstrap=True, class_weight='balanced',\n",
       "            criterion='gini', max_depth=None, max_features='auto',\n",
       "            max_leaf_nodes=None, min_impurity_decrease=0.0,\n",
       "            min_impurity_split=None, min_samples_leaf=2,\n",
       "            min_samples_split=2, min_weight_fraction_leaf=0.0,\n",
       "            n_estimators=100, n_jobs=None, oob_score=False,\n",
       "            random_state=None, verbose=0, warm_start=False)"
      ]
     },
     "execution_count": 56,
     "metadata": {},
     "output_type": "execute_result"
    }
   ],
   "source": [
    "clf_best.fit(X_train, y_train)"
   ]
  },
  {
   "cell_type": "code",
   "execution_count": 57,
   "metadata": {
    "colab": {},
    "colab_type": "code",
    "id": "cyzg7aJjpSJr"
   },
   "outputs": [],
   "source": [
    "y_pred = clf_best.predict(X_test)"
   ]
  },
  {
   "cell_type": "code",
   "execution_count": 51,
   "metadata": {
    "colab": {},
    "colab_type": "code",
    "id": "Eyff4Q-JpSJs"
   },
   "outputs": [],
   "source": [
    "y_pred = clf.predict(X_test)"
   ]
  },
  {
   "cell_type": "code",
   "execution_count": 58,
   "metadata": {
    "colab": {},
    "colab_type": "code",
    "id": "jjs_NqBnpSJw"
   },
   "outputs": [],
   "source": [
    "accuracy = accuracy_score(y_test, y_pred)"
   ]
  },
  {
   "cell_type": "code",
   "execution_count": 59,
   "metadata": {
    "colab": {},
    "colab_type": "code",
    "id": "wxKGVwXxpSJ1"
   },
   "outputs": [],
   "source": [
    "from sklearn.model_selection import cross_val_score"
   ]
  },
  {
   "cell_type": "markdown",
   "metadata": {
    "colab_type": "text",
    "id": "e-1CCD7GpSJ3"
   },
   "source": [
    "## Apresentando os resultados"
   ]
  },
  {
   "cell_type": "code",
   "execution_count": 60,
   "metadata": {
    "colab": {},
    "colab_type": "code",
    "id": "pj3iEn82pSJ3",
    "outputId": "c57d5f23-344d-4ccb-ce4b-d4092c5eb362"
   },
   "outputs": [
    {
     "name": "stdout",
     "output_type": "stream",
     "text": [
      "Accuracy geral:\n",
      "0.8283874017759452\n"
     ]
    }
   ],
   "source": [
    "# 10-Fold Cross validation\n",
    "print(\"Accuracy geral:\")\n",
    "print(np.mean(cross_val_score(clf_best, X_train, y_train, cv=10)))"
   ]
  },
  {
   "cell_type": "code",
   "execution_count": 61,
   "metadata": {
    "colab": {},
    "colab_type": "code",
    "id": "EZLVeAGhpSJ7",
    "outputId": "860408ca-3a30-43e9-cba2-0e4eec8b920a"
   },
   "outputs": [
    {
     "data": {
      "text/plain": [
       "array([0.33505239, 0.54291034, 0.08191495, 0.02472435, 0.01539798])"
      ]
     },
     "execution_count": 61,
     "metadata": {},
     "output_type": "execute_result"
    }
   ],
   "source": [
    "# Melhores Features\n",
    "clf.feature_importances_"
   ]
  },
  {
   "cell_type": "code",
   "execution_count": 62,
   "metadata": {
    "colab": {},
    "colab_type": "code",
    "id": "j2nvycK9pSJ8",
    "outputId": "b0dc1523-3ad6-4cc1-e49f-d1eb302cb853"
   },
   "outputs": [
    {
     "data": {
      "text/plain": [
       "Index(['nota', 'n1_std_turma', 'desempenho_exatas', 'primeira_vez_pagando',\n",
       "       'historico_reprovacao'],\n",
       "      dtype='object')"
      ]
     },
     "execution_count": 62,
     "metadata": {},
     "output_type": "execute_result"
    }
   ],
   "source": [
    "X_train.columns"
   ]
  },
  {
   "cell_type": "markdown",
   "metadata": {
    "colab_type": "text",
    "id": "OLSKByVCpSKA"
   },
   "source": [
    "## Curva ROC e Matriz de Confusão"
   ]
  },
  {
   "cell_type": "code",
   "execution_count": 63,
   "metadata": {
    "colab": {},
    "colab_type": "code",
    "id": "1vcL64w9pSKB"
   },
   "outputs": [],
   "source": [
    "def plot_roc_curve(fpr, tpr, label=None):    \n",
    "    plt.plot(fpr, tpr, linewidth=2, label=label)    \n",
    "    plt.plot([0, 1], [0, 1], 'k--')    \n",
    "    plt.axis([0, 1, 0, 1])   \n",
    "    plt.xlabel('False Positive Rate')    \n",
    "    plt.ylabel('True Positive Rate')"
   ]
  },
  {
   "cell_type": "code",
   "execution_count": 64,
   "metadata": {
    "colab": {},
    "colab_type": "code",
    "id": "F0y1tIEWpSKG",
    "outputId": "9155f418-4073-4680-ea26-4c99a9724936"
   },
   "outputs": [
    {
     "data": {
      "image/png": "[encoded data removed]",
      "text/plain": [
       "<Figure size 432x288 with 1 Axes>"
      ]
     },
     "metadata": {
      "needs_background": "light"
     },
     "output_type": "display_data"
    },
    {
     "name": "stdout",
     "output_type": "stream",
     "text": [
      "AUC: 0.872225\n"
     ]
    }
   ],
   "source": [
    "from sklearn.model_selection import cross_val_predict\n",
    "from sklearn.metrics import roc_curve\n",
    "from sklearn.metrics import roc_auc_score\n",
    "\n",
    "#CURVA ROC\n",
    "fig = plt.figure()\n",
    "y_probas = cross_val_predict(clf_best, X_test, y_test, cv=10, method=\"predict_proba\") \n",
    "\n",
    "y_scores = y_probas[:, 1]   # score = proba of positive class \n",
    "fpr, tpr, thresholds = roc_curve(y_test, y_scores)\n",
    "\n",
    "plot_roc_curve(fpr, tpr) \n",
    "plt.show()\n",
    "print(\"AUC: %f\" % roc_auc_score(y_test, y_scores))"
   ]
  },
  {
   "cell_type": "code",
   "execution_count": 65,
   "metadata": {
    "colab": {},
    "colab_type": "code",
    "id": "ZvbEzJFUpSKJ",
    "outputId": "547a1012-d665-43f1-dee1-d687b5fe274f"
   },
   "outputs": [
    {
     "name": "stdout",
     "output_type": "stream",
     "text": [
      "              precision    recall  f1-score   support\n",
      "\n",
      "       False       0.79      0.83      0.81       231\n",
      "        True       0.84      0.80      0.82       250\n",
      "\n",
      "   micro avg       0.81      0.81      0.81       481\n",
      "   macro avg       0.81      0.81      0.81       481\n",
      "weighted avg       0.81      0.81      0.81       481\n",
      "\n"
     ]
    },
    {
     "data": {
      "text/plain": [
       "Text(89.18, 0.5, 'predicted label')"
      ]
     },
     "execution_count": 65,
     "metadata": {},
     "output_type": "execute_result"
    },
    {
     "data": {
      "image/png": "[encoded data removed]",
      "text/plain": [
       "<Figure size 432x288 with 1 Axes>"
      ]
     },
     "metadata": {
      "needs_background": "light"
     },
     "output_type": "display_data"
    }
   ],
   "source": [
    "from sklearn.metrics import classification_report\n",
    "\n",
    "#avaliacao\n",
    "print(classification_report(y_test, y_pred))    \n",
    "    \n",
    "#Evaluating\n",
    "mat = confusion_matrix(y_test, y_pred)\n",
    "sns.heatmap(mat.T, square=True, annot=True, fmt='d', cbar=False)\n",
    "plt.xlabel('true label')\n",
    "plt.ylabel('predicted label')"
   ]
  }
 ],
 "metadata": {
  "accelerator": "GPU",
  "colab": {
   "name": "04_Novas_Features.ipynb",
   "provenance": [],
   "version": "0.3.2"
  },
  "kernelspec": {
   "display_name": "Python 3",
   "language": "python",
   "name": "python3"
  },
  "language_info": {
   "codemirror_mode": {
    "name": "ipython",
    "version": 3
   },
   "file_extension": ".py",
   "mimetype": "text/x-python",
   "name": "python",
   "nbconvert_exporter": "python",
   "pygments_lexer": "ipython3",
   "version": "3.6.8"
  }
 },
 "nbformat": 4,
 "nbformat_minor": 1
}
