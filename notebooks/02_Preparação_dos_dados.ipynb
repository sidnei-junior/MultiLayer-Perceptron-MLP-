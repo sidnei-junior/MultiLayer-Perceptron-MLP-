{
 "cells": [
  {
   "cell_type": "markdown",
   "metadata": {},
   "source": [
    "# Preparação dos dados\n",
    "Nesse notebook vamos preparar os dados que utilizaremos ao longo do desenvolvimento do projeto. Os datasets aqui utilizados são importados do portal de dados abertos da UFRN (http://dados.ufrn.br/).\n",
    "\n",
    "Para esse estudo, analisaremos apenas os dados do curso de Ciência e Tecnologia da UFRN, mais espeficamente a disciplina de Cálculo 2, onde tentaremos prever as possiveis reprovações dos alunos se baseando em seu histórico e na nota da primeira unidade na disciplina."
   ]
  },
  {
   "cell_type": "code",
   "execution_count": 1,
   "metadata": {},
   "outputs": [],
   "source": [
    "# Importing the libraries\n",
    "import numpy as np\n",
    "import matplotlib.pyplot as plt\n",
    "import pandas as pd"
   ]
  },
  {
   "cell_type": "markdown",
   "metadata": {},
   "source": [
    "### Importando os dados\n",
    "Vamos importar e já separar os escolhidos."
   ]
  },
  {
   "cell_type": "code",
   "execution_count": 40,
   "metadata": {},
   "outputs": [
    {
     "name": "stderr",
     "output_type": "stream",
     "text": [
      "/home/rafael/anaconda3/lib/python3.6/site-packages/ipykernel_launcher.py:7: FutureWarning: Sorting because non-concatenation axis is not aligned. A future version\n",
      "of pandas will change to not sort by default.\n",
      "\n",
      "To accept the future behavior, pass 'sort=False'.\n",
      "\n",
      "To retain the current behavior and silence the warning, pass 'sort=True'.\n",
      "\n",
      "  import sys\n"
     ]
    }
   ],
   "source": [
    "lista_anos_analisados = ['20151', '20152', '20161', '20162', '20171', '20172'] # 20172 vai ficar para validação\n",
    "\n",
    "matriculas_geral = pd.DataFrame()\n",
    "for ano in lista_anos_analisados:\n",
    "    matriculas = pd.read_csv(f\"data/matriculas_pos_limpeza_{ano}.csv\", sep=\";\")\n",
    "    \n",
    "    matriculas_geral = pd.concat([matriculas_geral, matriculas])"
   ]
  },
  {
   "cell_type": "code",
   "execution_count": 41,
   "metadata": {},
   "outputs": [
    {
     "data": {
      "text/plain": [
       "(34473, 12)"
      ]
     },
     "execution_count": 41,
     "metadata": {},
     "output_type": "execute_result"
    }
   ],
   "source": [
    "matriculas_geral.shape"
   ]
  },
  {
   "cell_type": "code",
   "execution_count": 42,
   "metadata": {},
   "outputs": [
    {
     "data": {
      "text/html": [
       "<div>\n",
       "<style scoped>\n",
       "    .dataframe tbody tr th:only-of-type {\n",
       "        vertical-align: middle;\n",
       "    }\n",
       "\n",
       "    .dataframe tbody tr th {\n",
       "        vertical-align: top;\n",
       "    }\n",
       "\n",
       "    .dataframe thead th {\n",
       "        text-align: right;\n",
       "    }\n",
       "</style>\n",
       "<table border=\"1\" class=\"dataframe\">\n",
       "  <thead>\n",
       "    <tr style=\"text-align: right;\">\n",
       "      <th></th>\n",
       "      <th>Unnamed: 0</th>\n",
       "      <th>Unnamed: 10</th>\n",
       "      <th>descricao</th>\n",
       "      <th>discente</th>\n",
       "      <th>faltas_unidade</th>\n",
       "      <th>id_curso</th>\n",
       "      <th>id_turma</th>\n",
       "      <th>media_final</th>\n",
       "      <th>nota</th>\n",
       "      <th>numero_total_faltas</th>\n",
       "      <th>reposicao</th>\n",
       "      <th>unidade</th>\n",
       "    </tr>\n",
       "  </thead>\n",
       "  <tbody>\n",
       "    <tr>\n",
       "      <th>0</th>\n",
       "      <td>34925</td>\n",
       "      <td>NaN</td>\n",
       "      <td>REPROVADO</td>\n",
       "      <td>6c4acceb9b1288b61d893dc1b5005764</td>\n",
       "      <td>0.0</td>\n",
       "      <td>10320810.0</td>\n",
       "      <td>1242602</td>\n",
       "      <td>0.0</td>\n",
       "      <td>0.0</td>\n",
       "      <td>0.0</td>\n",
       "      <td>f</td>\n",
       "      <td>1.0</td>\n",
       "    </tr>\n",
       "    <tr>\n",
       "      <th>1</th>\n",
       "      <td>34926</td>\n",
       "      <td>NaN</td>\n",
       "      <td>REPROVADO</td>\n",
       "      <td>6c4acceb9b1288b61d893dc1b5005764</td>\n",
       "      <td>0.0</td>\n",
       "      <td>10320810.0</td>\n",
       "      <td>1242602</td>\n",
       "      <td>0.0</td>\n",
       "      <td>0.0</td>\n",
       "      <td>0.0</td>\n",
       "      <td>f</td>\n",
       "      <td>2.0</td>\n",
       "    </tr>\n",
       "    <tr>\n",
       "      <th>2</th>\n",
       "      <td>34927</td>\n",
       "      <td>NaN</td>\n",
       "      <td>REPROVADO</td>\n",
       "      <td>6c4acceb9b1288b61d893dc1b5005764</td>\n",
       "      <td>0.0</td>\n",
       "      <td>10320810.0</td>\n",
       "      <td>1242602</td>\n",
       "      <td>0.0</td>\n",
       "      <td>0.0</td>\n",
       "      <td>0.0</td>\n",
       "      <td>f</td>\n",
       "      <td>3.0</td>\n",
       "    </tr>\n",
       "    <tr>\n",
       "      <th>3</th>\n",
       "      <td>34928</td>\n",
       "      <td>NaN</td>\n",
       "      <td>APROVADO</td>\n",
       "      <td>bb67c2ca87d0e1fcf027b2f0f6df4221</td>\n",
       "      <td>0.0</td>\n",
       "      <td>10320810.0</td>\n",
       "      <td>1242602</td>\n",
       "      <td>8.5</td>\n",
       "      <td>9.0</td>\n",
       "      <td>0.0</td>\n",
       "      <td>f</td>\n",
       "      <td>2.0</td>\n",
       "    </tr>\n",
       "    <tr>\n",
       "      <th>4</th>\n",
       "      <td>34929</td>\n",
       "      <td>NaN</td>\n",
       "      <td>APROVADO</td>\n",
       "      <td>bb67c2ca87d0e1fcf027b2f0f6df4221</td>\n",
       "      <td>0.0</td>\n",
       "      <td>10320810.0</td>\n",
       "      <td>1242602</td>\n",
       "      <td>8.5</td>\n",
       "      <td>10.0</td>\n",
       "      <td>0.0</td>\n",
       "      <td>f</td>\n",
       "      <td>3.0</td>\n",
       "    </tr>\n",
       "  </tbody>\n",
       "</table>\n",
       "</div>"
      ],
      "text/plain": [
       "   Unnamed: 0  Unnamed: 10  descricao                          discente  \\\n",
       "0       34925          NaN  REPROVADO  6c4acceb9b1288b61d893dc1b5005764   \n",
       "1       34926          NaN  REPROVADO  6c4acceb9b1288b61d893dc1b5005764   \n",
       "2       34927          NaN  REPROVADO  6c4acceb9b1288b61d893dc1b5005764   \n",
       "3       34928          NaN   APROVADO  bb67c2ca87d0e1fcf027b2f0f6df4221   \n",
       "4       34929          NaN   APROVADO  bb67c2ca87d0e1fcf027b2f0f6df4221   \n",
       "\n",
       "   faltas_unidade    id_curso  id_turma  media_final  nota  \\\n",
       "0             0.0  10320810.0   1242602          0.0   0.0   \n",
       "1             0.0  10320810.0   1242602          0.0   0.0   \n",
       "2             0.0  10320810.0   1242602          0.0   0.0   \n",
       "3             0.0  10320810.0   1242602          8.5   9.0   \n",
       "4             0.0  10320810.0   1242602          8.5  10.0   \n",
       "\n",
       "   numero_total_faltas reposicao  unidade  \n",
       "0                  0.0         f      1.0  \n",
       "1                  0.0         f      2.0  \n",
       "2                  0.0         f      3.0  \n",
       "3                  0.0         f      2.0  \n",
       "4                  0.0         f      3.0  "
      ]
     },
     "execution_count": 42,
     "metadata": {},
     "output_type": "execute_result"
    }
   ],
   "source": [
    "matriculas_geral.head()"
   ]
  },
  {
   "cell_type": "code",
   "execution_count": 44,
   "metadata": {},
   "outputs": [
    {
     "data": {
      "text/plain": [
       "Index(['Unnamed: 0', 'Unnamed: 10', 'descricao', 'discente', 'faltas_unidade',\n",
       "       'id_curso', 'id_turma', 'media_final', 'nota', 'numero_total_faltas',\n",
       "       'reposicao', 'unidade'],\n",
       "      dtype='object')"
      ]
     },
     "execution_count": 44,
     "metadata": {},
     "output_type": "execute_result"
    }
   ],
   "source": [
    "matriculas_geral.columns"
   ]
  },
  {
   "cell_type": "code",
   "execution_count": 45,
   "metadata": {},
   "outputs": [
    {
     "data": {
      "text/plain": [
       "REPROVADO                           14079\n",
       "APROVADO POR NOTA                    9975\n",
       "APROVADO                             5664\n",
       "REPROVADO POR MÉDIA E POR FALTAS     4704\n",
       "REPROVADO POR NOTA                     48\n",
       "REPROVADO POR FALTAS                    3\n",
       "Name: descricao, dtype: int64"
      ]
     },
     "execution_count": 45,
     "metadata": {},
     "output_type": "execute_result"
    }
   ],
   "source": [
    "matriculas_geral.descricao.value_counts()"
   ]
  },
  {
   "cell_type": "code",
   "execution_count": 46,
   "metadata": {},
   "outputs": [],
   "source": [
    "status_aprovado = ['APROVADO', 'APROVADO POR NOTA']\n",
    "\n",
    "matriculas_geral['reprovou'] = matriculas_geral.descricao.apply(lambda x: False if x in status_aprovado else True)"
   ]
  },
  {
   "cell_type": "code",
   "execution_count": 47,
   "metadata": {},
   "outputs": [],
   "source": [
    "columns_matriculas = ['discente', 'faltas_unidade',\n",
    "       'id_turma', 'media_final', 'nota', 'numero_total_faltas',\n",
    "       'reposicao', 'unidade', 'reprovou']\n",
    "matriculas_geral = matriculas_geral[columns_matriculas]"
   ]
  },
  {
   "cell_type": "code",
   "execution_count": 48,
   "metadata": {},
   "outputs": [],
   "source": [
    "matriculas_geral.to_csv(\"data/matriculas_geral_pos_preparacao.csv\", sep=';', index=False)"
   ]
  },
  {
   "cell_type": "markdown",
   "metadata": {},
   "source": [
    "### Importando os dados de turmas"
   ]
  },
  {
   "cell_type": "code",
   "execution_count": 49,
   "metadata": {},
   "outputs": [],
   "source": [
    "turmas_geral = pd.DataFrame()\n",
    "for ano in lista_anos_analisados:\n",
    "    turmas = pd.read_csv(f\"data/turmas_pos_limpeza_{ano}.csv\", sep=\";\")\n",
    "    \n",
    "    turmas_geral = pd.concat([turmas_geral, turmas])"
   ]
  },
  {
   "cell_type": "code",
   "execution_count": 50,
   "metadata": {},
   "outputs": [
    {
     "data": {
      "text/plain": [
       "(140, 6)"
      ]
     },
     "execution_count": 50,
     "metadata": {},
     "output_type": "execute_result"
    }
   ],
   "source": [
    "turmas_geral.shape"
   ]
  },
  {
   "cell_type": "code",
   "execution_count": 51,
   "metadata": {
    "scrolled": true
   },
   "outputs": [
    {
     "data": {
      "text/html": [
       "<div>\n",
       "<style scoped>\n",
       "    .dataframe tbody tr th:only-of-type {\n",
       "        vertical-align: middle;\n",
       "    }\n",
       "\n",
       "    .dataframe tbody tr th {\n",
       "        vertical-align: top;\n",
       "    }\n",
       "\n",
       "    .dataframe thead th {\n",
       "        text-align: right;\n",
       "    }\n",
       "</style>\n",
       "<table border=\"1\" class=\"dataframe\">\n",
       "  <thead>\n",
       "    <tr style=\"text-align: right;\">\n",
       "      <th></th>\n",
       "      <th>Unnamed: 0</th>\n",
       "      <th>id_turma</th>\n",
       "      <th>id_componente_curricular</th>\n",
       "      <th>id_docente_interno</th>\n",
       "      <th>ano_periodo</th>\n",
       "      <th>situacao_turma</th>\n",
       "    </tr>\n",
       "  </thead>\n",
       "  <tbody>\n",
       "    <tr>\n",
       "      <th>0</th>\n",
       "      <td>5294</td>\n",
       "      <td>1242221</td>\n",
       "      <td>57586</td>\n",
       "      <td>5752289.0</td>\n",
       "      <td>20151</td>\n",
       "      <td>CONSOLIDADA</td>\n",
       "    </tr>\n",
       "    <tr>\n",
       "      <th>1</th>\n",
       "      <td>5297</td>\n",
       "      <td>1242224</td>\n",
       "      <td>57586</td>\n",
       "      <td>5755052.0</td>\n",
       "      <td>20151</td>\n",
       "      <td>CONSOLIDADA</td>\n",
       "    </tr>\n",
       "    <tr>\n",
       "      <th>2</th>\n",
       "      <td>5301</td>\n",
       "      <td>1242227</td>\n",
       "      <td>57586</td>\n",
       "      <td>5755040.0</td>\n",
       "      <td>20151</td>\n",
       "      <td>CONSOLIDADA</td>\n",
       "    </tr>\n",
       "    <tr>\n",
       "      <th>3</th>\n",
       "      <td>5304</td>\n",
       "      <td>1242230</td>\n",
       "      <td>57586</td>\n",
       "      <td>5757117.0</td>\n",
       "      <td>20151</td>\n",
       "      <td>CONSOLIDADA</td>\n",
       "    </tr>\n",
       "    <tr>\n",
       "      <th>4</th>\n",
       "      <td>5306</td>\n",
       "      <td>1242232</td>\n",
       "      <td>57586</td>\n",
       "      <td>5756876.0</td>\n",
       "      <td>20151</td>\n",
       "      <td>CONSOLIDADA</td>\n",
       "    </tr>\n",
       "  </tbody>\n",
       "</table>\n",
       "</div>"
      ],
      "text/plain": [
       "   Unnamed: 0  id_turma  id_componente_curricular  id_docente_interno  \\\n",
       "0        5294   1242221                     57586           5752289.0   \n",
       "1        5297   1242224                     57586           5755052.0   \n",
       "2        5301   1242227                     57586           5755040.0   \n",
       "3        5304   1242230                     57586           5757117.0   \n",
       "4        5306   1242232                     57586           5756876.0   \n",
       "\n",
       "   ano_periodo situacao_turma  \n",
       "0        20151    CONSOLIDADA  \n",
       "1        20151    CONSOLIDADA  \n",
       "2        20151    CONSOLIDADA  \n",
       "3        20151    CONSOLIDADA  \n",
       "4        20151    CONSOLIDADA  "
      ]
     },
     "execution_count": 51,
     "metadata": {},
     "output_type": "execute_result"
    }
   ],
   "source": [
    "turmas_geral.head()"
   ]
  },
  {
   "cell_type": "code",
   "execution_count": 52,
   "metadata": {},
   "outputs": [
    {
     "data": {
      "text/plain": [
       "Index(['Unnamed: 0', 'id_turma', 'id_componente_curricular',\n",
       "       'id_docente_interno', 'ano_periodo', 'situacao_turma'],\n",
       "      dtype='object')"
      ]
     },
     "execution_count": 52,
     "metadata": {},
     "output_type": "execute_result"
    }
   ],
   "source": [
    "turmas_geral.columns"
   ]
  },
  {
   "cell_type": "code",
   "execution_count": 53,
   "metadata": {},
   "outputs": [],
   "source": [
    "columns_turma = ['id_turma', 'id_componente_curricular','id_docente_interno', 'ano_periodo']\n",
    "turmas_geral = turmas_geral[columns_turma]"
   ]
  },
  {
   "cell_type": "code",
   "execution_count": 54,
   "metadata": {},
   "outputs": [],
   "source": [
    "turmas_geral.to_csv(\"data/turmas_geral_pos_preparacao.csv\", sep=';', index=False)"
   ]
  },
  {
   "cell_type": "markdown",
   "metadata": {},
   "source": [
    "## Pegando apenas os dados de Cálculo II"
   ]
  },
  {
   "cell_type": "code",
   "execution_count": 28,
   "metadata": {},
   "outputs": [],
   "source": [
    "id_componente_c2 = ['48584', '57588', '2051052']\n",
    "turmas_c2 = turmas_geral[turmas_geral.id_componente_curricular.isin(id_componente_c2)]"
   ]
  },
  {
   "cell_type": "code",
   "execution_count": 30,
   "metadata": {},
   "outputs": [],
   "source": [
    "# Pegando apenas dos periodos que seram analisados: 2016.1, 2016.2, 2017.1\n",
    "turmas_c2 = turmas_c2[turmas_c2.ano_periodo.isin(['20161', '20162', '20171'])]"
   ]
  },
  {
   "cell_type": "code",
   "execution_count": 33,
   "metadata": {},
   "outputs": [
    {
     "data": {
      "text/plain": [
       "5752242.0    3\n",
       "5752287.0    2\n",
       "5752769.0    2\n",
       "5758125.0    2\n",
       "5756827.0    2\n",
       "5757166.0    1\n",
       "5753045.0    1\n",
       "5753037.0    1\n",
       "5757117.0    1\n",
       "5758644.0    1\n",
       "Name: id_docente_interno, dtype: int64"
      ]
     },
     "execution_count": 33,
     "metadata": {},
     "output_type": "execute_result"
    }
   ],
   "source": [
    "turmas_c2.id_docente_interno.value_counts()"
   ]
  },
  {
   "cell_type": "code",
   "execution_count": 34,
   "metadata": {},
   "outputs": [
    {
     "data": {
      "text/plain": [
       "26592.0      10\n",
       "5757193.0    10\n",
       "5752240.0     8\n",
       "5757117.0     7\n",
       "5752289.0     6\n",
       "5753045.0     6\n",
       "5753020.0     6\n",
       "5752287.0     6\n",
       "5758125.0     6\n",
       "5756620.0     4\n",
       "5752242.0     4\n",
       "5752170.0     4\n",
       "5753081.0     4\n",
       "5757166.0     4\n",
       "5755052.0     4\n",
       "5756966.0     3\n",
       "5758715.0     3\n",
       "5752769.0     3\n",
       "5752727.0     3\n",
       "5758220.0     3\n",
       "5756827.0     3\n",
       "5759223.0     2\n",
       "5756876.0     2\n",
       "5753037.0     2\n",
       "5755040.0     1\n",
       "5758644.0     1\n",
       "5756031.0     1\n",
       "5757657.0     1\n",
       "5757983.0     1\n",
       "5756199.0     1\n",
       "Name: id_docente_interno, dtype: int64"
      ]
     },
     "execution_count": 34,
     "metadata": {},
     "output_type": "execute_result"
    }
   ],
   "source": [
    "turmas_geral.id_docente_interno.value_counts()"
   ]
  },
  {
   "cell_type": "code",
   "execution_count": null,
   "metadata": {},
   "outputs": [],
   "source": []
  }
 ],
 "metadata": {
  "kernelspec": {
   "display_name": "Python 3",
   "language": "python",
   "name": "python3"
  },
  "language_info": {
   "codemirror_mode": {
    "name": "ipython",
    "version": 3
   },
   "file_extension": ".py",
   "mimetype": "text/x-python",
   "name": "python",
   "nbconvert_exporter": "python",
   "pygments_lexer": "ipython3",
   "version": "3.6.8"
  }
 },
 "nbformat": 4,
 "nbformat_minor": 2
}
