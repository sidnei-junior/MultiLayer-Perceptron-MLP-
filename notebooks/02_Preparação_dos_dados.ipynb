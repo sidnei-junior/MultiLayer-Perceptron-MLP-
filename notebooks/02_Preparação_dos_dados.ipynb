{
 "cells": [
  {
   "cell_type": "markdown",
   "metadata": {},
   "source": [
    "# Preparação dos dados\n",
    "Nesse notebook vamos preparar os dados que utilizaremos ao longo do desenvolvimento do projeto. Os datasets aqui utilizados são importados do portal de dados abertos da UFRN (http://dados.ufrn.br/).\n",
    "\n",
    "Para esse estudo, analisaremos apenas os dados do curso de Ciência e Tecnologia da UFRN, mais espeficamente a disciplina de Cálculo 2, onde tentaremos prever as possiveis reprovações dos alunos se baseando em seu histórico e na nota da primeira unidade na disciplina."
   ]
  },
  {
   "cell_type": "code",
   "execution_count": 1,
   "metadata": {},
   "outputs": [],
   "source": [
    "# Importing the libraries\n",
    "import numpy as np\n",
    "import matplotlib.pyplot as plt\n",
    "import pandas as pd"
   ]
  },
  {
   "cell_type": "code",
   "execution_count": 10,
   "metadata": {},
   "outputs": [],
   "source": [
    "matriculas_20171 = pd.read_csv(\"data/matriculas_pos_limpeza_20171.csv\", sep=\";\")"
   ]
  },
  {
   "cell_type": "code",
   "execution_count": 11,
   "metadata": {},
   "outputs": [
    {
     "data": {
      "text/plain": [
       "(9101, 11)"
      ]
     },
     "execution_count": 11,
     "metadata": {},
     "output_type": "execute_result"
    }
   ],
   "source": [
    "matriculas_20171.shape"
   ]
  },
  {
   "cell_type": "code",
   "execution_count": 12,
   "metadata": {},
   "outputs": [
    {
     "data": {
      "text/plain": [
       "Index(['Unnamed: 0', 'id_turma', 'discente', 'id_curso', 'unidade', 'nota',\n",
       "       'reposicao', 'faltas_unidade', 'media_final', 'numero_total_faltas',\n",
       "       'descricao'],\n",
       "      dtype='object')"
      ]
     },
     "execution_count": 12,
     "metadata": {},
     "output_type": "execute_result"
    }
   ],
   "source": [
    "matriculas_20171.columns"
   ]
  },
  {
   "cell_type": "code",
   "execution_count": 13,
   "metadata": {},
   "outputs": [
    {
     "data": {
      "text/html": [
       "<div>\n",
       "<style scoped>\n",
       "    .dataframe tbody tr th:only-of-type {\n",
       "        vertical-align: middle;\n",
       "    }\n",
       "\n",
       "    .dataframe tbody tr th {\n",
       "        vertical-align: top;\n",
       "    }\n",
       "\n",
       "    .dataframe thead th {\n",
       "        text-align: right;\n",
       "    }\n",
       "</style>\n",
       "<table border=\"1\" class=\"dataframe\">\n",
       "  <thead>\n",
       "    <tr style=\"text-align: right;\">\n",
       "      <th></th>\n",
       "      <th>Unnamed: 0</th>\n",
       "      <th>id_turma</th>\n",
       "      <th>discente</th>\n",
       "      <th>id_curso</th>\n",
       "      <th>unidade</th>\n",
       "      <th>nota</th>\n",
       "      <th>reposicao</th>\n",
       "      <th>faltas_unidade</th>\n",
       "      <th>media_final</th>\n",
       "      <th>numero_total_faltas</th>\n",
       "      <th>descricao</th>\n",
       "    </tr>\n",
       "  </thead>\n",
       "  <tbody>\n",
       "    <tr>\n",
       "      <th>0</th>\n",
       "      <td>4138</td>\n",
       "      <td>57595049</td>\n",
       "      <td>5cc7d5a81522afcf7982ec1d36f25d4e</td>\n",
       "      <td>10320810.0</td>\n",
       "      <td>3.0</td>\n",
       "      <td>0.0</td>\n",
       "      <td>f</td>\n",
       "      <td>0.0</td>\n",
       "      <td>0.0</td>\n",
       "      <td>70.0</td>\n",
       "      <td>REPROVADO POR MÉDIA E POR FALTAS</td>\n",
       "    </tr>\n",
       "    <tr>\n",
       "      <th>1</th>\n",
       "      <td>4139</td>\n",
       "      <td>57595049</td>\n",
       "      <td>5cc7d5a81522afcf7982ec1d36f25d4e</td>\n",
       "      <td>10320810.0</td>\n",
       "      <td>2.0</td>\n",
       "      <td>0.0</td>\n",
       "      <td>f</td>\n",
       "      <td>0.0</td>\n",
       "      <td>0.0</td>\n",
       "      <td>70.0</td>\n",
       "      <td>REPROVADO POR MÉDIA E POR FALTAS</td>\n",
       "    </tr>\n",
       "    <tr>\n",
       "      <th>2</th>\n",
       "      <td>4140</td>\n",
       "      <td>57595049</td>\n",
       "      <td>5cc7d5a81522afcf7982ec1d36f25d4e</td>\n",
       "      <td>10320810.0</td>\n",
       "      <td>1.0</td>\n",
       "      <td>0.0</td>\n",
       "      <td>f</td>\n",
       "      <td>0.0</td>\n",
       "      <td>0.0</td>\n",
       "      <td>70.0</td>\n",
       "      <td>REPROVADO POR MÉDIA E POR FALTAS</td>\n",
       "    </tr>\n",
       "    <tr>\n",
       "      <th>3</th>\n",
       "      <td>4141</td>\n",
       "      <td>57595049</td>\n",
       "      <td>a8bc0c7004447640dc35424aea78b316</td>\n",
       "      <td>10320810.0</td>\n",
       "      <td>3.0</td>\n",
       "      <td>0.0</td>\n",
       "      <td>f</td>\n",
       "      <td>0.0</td>\n",
       "      <td>0.0</td>\n",
       "      <td>68.0</td>\n",
       "      <td>CANCELADO</td>\n",
       "    </tr>\n",
       "    <tr>\n",
       "      <th>4</th>\n",
       "      <td>4142</td>\n",
       "      <td>57595049</td>\n",
       "      <td>a8bc0c7004447640dc35424aea78b316</td>\n",
       "      <td>10320810.0</td>\n",
       "      <td>2.0</td>\n",
       "      <td>0.0</td>\n",
       "      <td>f</td>\n",
       "      <td>0.0</td>\n",
       "      <td>0.0</td>\n",
       "      <td>68.0</td>\n",
       "      <td>CANCELADO</td>\n",
       "    </tr>\n",
       "  </tbody>\n",
       "</table>\n",
       "</div>"
      ],
      "text/plain": [
       "   Unnamed: 0  id_turma                          discente    id_curso  \\\n",
       "0        4138  57595049  5cc7d5a81522afcf7982ec1d36f25d4e  10320810.0   \n",
       "1        4139  57595049  5cc7d5a81522afcf7982ec1d36f25d4e  10320810.0   \n",
       "2        4140  57595049  5cc7d5a81522afcf7982ec1d36f25d4e  10320810.0   \n",
       "3        4141  57595049  a8bc0c7004447640dc35424aea78b316  10320810.0   \n",
       "4        4142  57595049  a8bc0c7004447640dc35424aea78b316  10320810.0   \n",
       "\n",
       "   unidade  nota reposicao  faltas_unidade  media_final  numero_total_faltas  \\\n",
       "0      3.0   0.0         f             0.0          0.0                 70.0   \n",
       "1      2.0   0.0         f             0.0          0.0                 70.0   \n",
       "2      1.0   0.0         f             0.0          0.0                 70.0   \n",
       "3      3.0   0.0         f             0.0          0.0                 68.0   \n",
       "4      2.0   0.0         f             0.0          0.0                 68.0   \n",
       "\n",
       "                          descricao  \n",
       "0  REPROVADO POR MÉDIA E POR FALTAS  \n",
       "1  REPROVADO POR MÉDIA E POR FALTAS  \n",
       "2  REPROVADO POR MÉDIA E POR FALTAS  \n",
       "3                         CANCELADO  \n",
       "4                         CANCELADO  "
      ]
     },
     "execution_count": 13,
     "metadata": {},
     "output_type": "execute_result"
    }
   ],
   "source": [
    "matriculas_20171.head()"
   ]
  },
  {
   "cell_type": "code",
   "execution_count": 9,
   "metadata": {},
   "outputs": [],
   "source": [
    "id_cet = 10320810\n",
    "alunos_cet = matriculas_20171[matriculas_20171.id_curso == id_cet]"
   ]
  },
  {
   "cell_type": "code",
   "execution_count": 14,
   "metadata": {},
   "outputs": [],
   "source": [
    "turma_20171 = pd.read_csv(\"data/turmas-20171.csv\", sep=\";\")"
   ]
  },
  {
   "cell_type": "code",
   "execution_count": 15,
   "metadata": {},
   "outputs": [
    {
     "data": {
      "text/plain": [
       "Index(['id_turma', 'codigo', 'nome_ascii', 'docente_interno',\n",
       "       'docente_externo', 'nivel_ensino', 'ano', 'periodo', 'capacidade_aluno',\n",
       "       'local', 'data_inicio', 'data_fim', 'codigo_turma', 'descricao_horario',\n",
       "       'observacao', 'distancia', 'tipo', 'data_consolidacao', 'agrupadora',\n",
       "       'qtd_aulas_lancadas', 'situacao_turma', 'convenio',\n",
       "       'modalidade_participantes', 'campus_turma', 'Unnamed: 24'],\n",
       "      dtype='object')"
      ]
     },
     "execution_count": 15,
     "metadata": {},
     "output_type": "execute_result"
    }
   ],
   "source": [
    "turma_20171.columns"
   ]
  },
  {
   "cell_type": "code",
   "execution_count": 16,
   "metadata": {},
   "outputs": [],
   "source": [
    "columns_sel = ['id_turma', 'codigo', 'nome_ascii', 'docente_interno',\n",
    "       'ano', 'periodo', 'situacao_turma']"
   ]
  },
  {
   "cell_type": "code",
   "execution_count": 17,
   "metadata": {},
   "outputs": [
    {
     "data": {
      "text/plain": [
       "(14036, 25)"
      ]
     },
     "execution_count": 17,
     "metadata": {},
     "output_type": "execute_result"
    }
   ],
   "source": [
    "turma_20171.shape"
   ]
  },
  {
   "cell_type": "code",
   "execution_count": 18,
   "metadata": {},
   "outputs": [
    {
     "data": {
      "text/html": [
       "<div>\n",
       "<style scoped>\n",
       "    .dataframe tbody tr th:only-of-type {\n",
       "        vertical-align: middle;\n",
       "    }\n",
       "\n",
       "    .dataframe tbody tr th {\n",
       "        vertical-align: top;\n",
       "    }\n",
       "\n",
       "    .dataframe thead th {\n",
       "        text-align: right;\n",
       "    }\n",
       "</style>\n",
       "<table border=\"1\" class=\"dataframe\">\n",
       "  <thead>\n",
       "    <tr style=\"text-align: right;\">\n",
       "      <th></th>\n",
       "      <th>id_turma</th>\n",
       "      <th>codigo</th>\n",
       "      <th>nome_ascii</th>\n",
       "      <th>docente_interno</th>\n",
       "      <th>docente_externo</th>\n",
       "      <th>nivel_ensino</th>\n",
       "      <th>ano</th>\n",
       "      <th>periodo</th>\n",
       "      <th>capacidade_aluno</th>\n",
       "      <th>local</th>\n",
       "      <th>...</th>\n",
       "      <th>distancia</th>\n",
       "      <th>tipo</th>\n",
       "      <th>data_consolidacao</th>\n",
       "      <th>agrupadora</th>\n",
       "      <th>qtd_aulas_lancadas</th>\n",
       "      <th>situacao_turma</th>\n",
       "      <th>convenio</th>\n",
       "      <th>modalidade_participantes</th>\n",
       "      <th>campus_turma</th>\n",
       "      <th>Unnamed: 24</th>\n",
       "    </tr>\n",
       "  </thead>\n",
       "  <tbody>\n",
       "    <tr>\n",
       "      <th>0</th>\n",
       "      <td>57593168</td>\n",
       "      <td>MUT0101</td>\n",
       "      <td>LINGUAGEM E ESTRUTURACAO MUSICAL I</td>\n",
       "      <td>6461327529e0404944cd1295b7f81b1f</td>\n",
       "      <td>NaN</td>\n",
       "      <td>TÉCNICO</td>\n",
       "      <td>2017</td>\n",
       "      <td>1</td>\n",
       "      <td>50.0</td>\n",
       "      <td>Sala 24</td>\n",
       "      <td>...</td>\n",
       "      <td>f</td>\n",
       "      <td>1</td>\n",
       "      <td>2017-07-03 19:50:39.259</td>\n",
       "      <td>f</td>\n",
       "      <td>26.0</td>\n",
       "      <td>CONSOLIDADA</td>\n",
       "      <td>NaN</td>\n",
       "      <td>Presencial</td>\n",
       "      <td>NaN</td>\n",
       "      <td>NaN</td>\n",
       "    </tr>\n",
       "    <tr>\n",
       "      <th>1</th>\n",
       "      <td>57593169</td>\n",
       "      <td>MUT0101</td>\n",
       "      <td>LINGUAGEM E ESTRUTURACAO MUSICAL I</td>\n",
       "      <td>f3db137cfe62d6556e92aadcee290b1c</td>\n",
       "      <td>NaN</td>\n",
       "      <td>TÉCNICO</td>\n",
       "      <td>2017</td>\n",
       "      <td>1</td>\n",
       "      <td>50.0</td>\n",
       "      <td>Sala 24</td>\n",
       "      <td>...</td>\n",
       "      <td>f</td>\n",
       "      <td>1</td>\n",
       "      <td>2017-07-05 08:17:47.229</td>\n",
       "      <td>f</td>\n",
       "      <td>34.0</td>\n",
       "      <td>CONSOLIDADA</td>\n",
       "      <td>NaN</td>\n",
       "      <td>Presencial</td>\n",
       "      <td>NaN</td>\n",
       "      <td>NaN</td>\n",
       "    </tr>\n",
       "    <tr>\n",
       "      <th>2</th>\n",
       "      <td>57593170</td>\n",
       "      <td>MUT0103</td>\n",
       "      <td>LINGUAGEM E ESTRUTURACAO MUSICAL III</td>\n",
       "      <td>f3db137cfe62d6556e92aadcee290b1c</td>\n",
       "      <td>NaN</td>\n",
       "      <td>TÉCNICO</td>\n",
       "      <td>2017</td>\n",
       "      <td>1</td>\n",
       "      <td>50.0</td>\n",
       "      <td>Sala 24</td>\n",
       "      <td>...</td>\n",
       "      <td>f</td>\n",
       "      <td>1</td>\n",
       "      <td>NaN</td>\n",
       "      <td>f</td>\n",
       "      <td>NaN</td>\n",
       "      <td>EXCLUÍDA</td>\n",
       "      <td>NaN</td>\n",
       "      <td>Presencial</td>\n",
       "      <td>NaN</td>\n",
       "      <td>NaN</td>\n",
       "    </tr>\n",
       "    <tr>\n",
       "      <th>3</th>\n",
       "      <td>57593172</td>\n",
       "      <td>MUT310</td>\n",
       "      <td>APRECIACAO MUSICAL I</td>\n",
       "      <td>40831b01609dda6af0b3083ec69fefcd</td>\n",
       "      <td>NaN</td>\n",
       "      <td>TÉCNICO</td>\n",
       "      <td>2017</td>\n",
       "      <td>1</td>\n",
       "      <td>30.0</td>\n",
       "      <td>Sala 25</td>\n",
       "      <td>...</td>\n",
       "      <td>f</td>\n",
       "      <td>1</td>\n",
       "      <td>NaN</td>\n",
       "      <td>f</td>\n",
       "      <td>NaN</td>\n",
       "      <td>EXCLUÍDA</td>\n",
       "      <td>NaN</td>\n",
       "      <td>Presencial</td>\n",
       "      <td>NaN</td>\n",
       "      <td>NaN</td>\n",
       "    </tr>\n",
       "    <tr>\n",
       "      <th>4</th>\n",
       "      <td>57593173</td>\n",
       "      <td>MUT477</td>\n",
       "      <td>ARRANJOS I</td>\n",
       "      <td>6a0f897c4c2000ff33a580db781815bd</td>\n",
       "      <td>NaN</td>\n",
       "      <td>TÉCNICO</td>\n",
       "      <td>2017</td>\n",
       "      <td>1</td>\n",
       "      <td>20.0</td>\n",
       "      <td>LAMUCO</td>\n",
       "      <td>...</td>\n",
       "      <td>f</td>\n",
       "      <td>1</td>\n",
       "      <td>2017-07-05 17:37:03.708</td>\n",
       "      <td>f</td>\n",
       "      <td>36.0</td>\n",
       "      <td>CONSOLIDADA</td>\n",
       "      <td>NaN</td>\n",
       "      <td>Presencial</td>\n",
       "      <td>NaN</td>\n",
       "      <td>NaN</td>\n",
       "    </tr>\n",
       "  </tbody>\n",
       "</table>\n",
       "<p>5 rows × 25 columns</p>\n",
       "</div>"
      ],
      "text/plain": [
       "   id_turma   codigo                            nome_ascii  \\\n",
       "0  57593168  MUT0101    LINGUAGEM E ESTRUTURACAO MUSICAL I   \n",
       "1  57593169  MUT0101    LINGUAGEM E ESTRUTURACAO MUSICAL I   \n",
       "2  57593170  MUT0103  LINGUAGEM E ESTRUTURACAO MUSICAL III   \n",
       "3  57593172   MUT310                  APRECIACAO MUSICAL I   \n",
       "4  57593173   MUT477                            ARRANJOS I   \n",
       "\n",
       "                    docente_interno docente_externo nivel_ensino   ano  \\\n",
       "0  6461327529e0404944cd1295b7f81b1f             NaN      TÉCNICO  2017   \n",
       "1  f3db137cfe62d6556e92aadcee290b1c             NaN      TÉCNICO  2017   \n",
       "2  f3db137cfe62d6556e92aadcee290b1c             NaN      TÉCNICO  2017   \n",
       "3  40831b01609dda6af0b3083ec69fefcd             NaN      TÉCNICO  2017   \n",
       "4  6a0f897c4c2000ff33a580db781815bd             NaN      TÉCNICO  2017   \n",
       "\n",
       "   periodo  capacidade_aluno    local  ... distancia tipo  \\\n",
       "0        1              50.0  Sala 24  ...         f    1   \n",
       "1        1              50.0  Sala 24  ...         f    1   \n",
       "2        1              50.0  Sala 24  ...         f    1   \n",
       "3        1              30.0  Sala 25  ...         f    1   \n",
       "4        1              20.0   LAMUCO  ...         f    1   \n",
       "\n",
       "         data_consolidacao agrupadora qtd_aulas_lancadas situacao_turma  \\\n",
       "0  2017-07-03 19:50:39.259          f               26.0    CONSOLIDADA   \n",
       "1  2017-07-05 08:17:47.229          f               34.0    CONSOLIDADA   \n",
       "2                      NaN          f                NaN       EXCLUÍDA   \n",
       "3                      NaN          f                NaN       EXCLUÍDA   \n",
       "4  2017-07-05 17:37:03.708          f               36.0    CONSOLIDADA   \n",
       "\n",
       "   convenio modalidade_participantes campus_turma  Unnamed: 24  \n",
       "0       NaN               Presencial          NaN          NaN  \n",
       "1       NaN               Presencial          NaN          NaN  \n",
       "2       NaN               Presencial          NaN          NaN  \n",
       "3       NaN               Presencial          NaN          NaN  \n",
       "4       NaN               Presencial          NaN          NaN  \n",
       "\n",
       "[5 rows x 25 columns]"
      ]
     },
     "execution_count": 18,
     "metadata": {},
     "output_type": "execute_result"
    }
   ],
   "source": [
    "turma_20171.head()"
   ]
  },
  {
   "cell_type": "code",
   "execution_count": null,
   "metadata": {},
   "outputs": [],
   "source": []
  }
 ],
 "metadata": {
  "kernelspec": {
   "display_name": "Python 3",
   "language": "python",
   "name": "python3"
  },
  "language_info": {
   "codemirror_mode": {
    "name": "ipython",
    "version": 3
   },
   "file_extension": ".py",
   "mimetype": "text/x-python",
   "name": "python",
   "nbconvert_exporter": "python",
   "pygments_lexer": "ipython3",
   "version": "3.6.8"
  }
 },
 "nbformat": 4,
 "nbformat_minor": 2
}
