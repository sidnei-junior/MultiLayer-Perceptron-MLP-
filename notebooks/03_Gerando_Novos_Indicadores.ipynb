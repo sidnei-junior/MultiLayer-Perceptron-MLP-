{
 "cells": [
  {
   "cell_type": "markdown",
   "metadata": {},
   "source": [
    "# Gerando novos indicadores\n",
    "Nesse notebook vamos preparar os dados que utilizaremos ao longo do desenvolvimento do projeto. Os datasets aqui utilizados são importados do portal de dados abertos da UFRN (http://dados.ufrn.br/).\n",
    "\n",
    "Para esse estudo, analisaremos apenas os dados do curso de Ciência e Tecnologia da UFRN, mais espeficamente a disciplina de Cálculo 2, onde tentaremos prever as possiveis reprovações dos alunos se baseando em seu histórico e na nota da primeira unidade na disciplina."
   ]
  },
  {
   "cell_type": "code",
   "execution_count": 1,
   "metadata": {},
   "outputs": [],
   "source": [
    "# Importing the libraries\n",
    "import numpy as np\n",
    "import matplotlib.pyplot as plt\n",
    "import pandas as pd"
   ]
  },
  {
   "cell_type": "code",
   "execution_count": 2,
   "metadata": {},
   "outputs": [],
   "source": [
    "# importando os dados\n",
    "matriculas = pd.read_csv(\"data/matriculas_geral_pos_preparacao.csv\", sep=';')\n",
    "turmas = pd.read_csv(\"data/turmas_geral_pos_preparacao.csv\", sep=';')"
   ]
  },
  {
   "cell_type": "markdown",
   "metadata": {},
   "source": [
    "## Cálculando a média de reprovação por turma"
   ]
  },
  {
   "cell_type": "code",
   "execution_count": 3,
   "metadata": {},
   "outputs": [
    {
     "data": {
      "text/plain": [
       "18834"
      ]
     },
     "execution_count": 3,
     "metadata": {},
     "output_type": "execute_result"
    }
   ],
   "source": [
    "matriculas.reprovou.sum()"
   ]
  },
  {
   "cell_type": "code",
   "execution_count": 4,
   "metadata": {},
   "outputs": [
    {
     "data": {
      "text/plain": [
       "(34473, 9)"
      ]
     },
     "execution_count": 4,
     "metadata": {},
     "output_type": "execute_result"
    }
   ],
   "source": [
    "matriculas.shape"
   ]
  },
  {
   "cell_type": "code",
   "execution_count": 5,
   "metadata": {},
   "outputs": [
    {
     "data": {
      "text/plain": [
       "0.5463406143938735"
      ]
     },
     "execution_count": 5,
     "metadata": {},
     "output_type": "execute_result"
    }
   ],
   "source": [
    "18834 / 34473"
   ]
  },
  {
   "cell_type": "code",
   "execution_count": 6,
   "metadata": {},
   "outputs": [
    {
     "data": {
      "text/plain": [
       "Index(['discente', 'faltas_unidade', 'id_turma', 'media_final', 'nota',\n",
       "       'numero_total_faltas', 'reposicao', 'unidade', 'reprovou'],\n",
       "      dtype='object')"
      ]
     },
     "execution_count": 6,
     "metadata": {},
     "output_type": "execute_result"
    }
   ],
   "source": [
    "matriculas.columns"
   ]
  },
  {
   "cell_type": "code",
   "execution_count": 7,
   "metadata": {},
   "outputs": [],
   "source": [
    "statisticas_turmas = matriculas.groupby('id_turma').agg({'reprovou': ['sum', 'count'], 'media_final': ['mean', 'std']})"
   ]
  },
  {
   "cell_type": "markdown",
   "metadata": {},
   "source": [
    "# Feature 1: dificuldade_professor"
   ]
  },
  {
   "cell_type": "code",
   "execution_count": 8,
   "metadata": {},
   "outputs": [],
   "source": [
    "turmas['tx_reprovacao'] = turmas.id_turma.apply(lambda x: statisticas_turmas['reprovou']['sum'][x] / statisticas_turmas['reprovou']['count'][x])"
   ]
  },
  {
   "cell_type": "code",
   "execution_count": 60,
   "metadata": {},
   "outputs": [
    {
     "data": {
      "text/plain": [
       "<matplotlib.axes._subplots.AxesSubplot at 0x7f2e94cc2ba8>"
      ]
     },
     "execution_count": 60,
     "metadata": {},
     "output_type": "execute_result"
    },
    {
     "data": {
      "image/png": "[encoded data removed]",
      "text/plain": [
       "<Figure size 432x288 with 1 Axes>"
      ]
     },
     "metadata": {
      "needs_background": "light"
     },
     "output_type": "display_data"
    }
   ],
   "source": [
    "turmas.tx_reprovacao.hist()"
   ]
  },
  {
   "cell_type": "code",
   "execution_count": 9,
   "metadata": {},
   "outputs": [],
   "source": [
    "lista_semestres_analisados = [20161, 20162, 20171, 20172]\n",
    "\n",
    "tx_reprovacao_do_professor_por_turma = {}\n",
    "for semestre in lista_semestres_analisados:\n",
    "    turmas_anteriores = turmas.query(f\"ano_periodo < {semestre}\")\n",
    "    \n",
    "    turmas_atuais = turmas.query(f\"ano_periodo == {semestre}\")\n",
    "    for index, row in turmas_atuais.iterrows():\n",
    "        turmas_do_professor = turmas_anteriores[turmas_anteriores.id_docente_interno == row.id_docente_interno]\n",
    "        if turmas_do_professor.shape[0] > 0:\n",
    "            tx_reprovacao_do_professor_por_turma[row['id_turma']] = turmas_do_professor.tx_reprovacao.mean()"
   ]
  },
  {
   "cell_type": "code",
   "execution_count": 10,
   "metadata": {},
   "outputs": [],
   "source": [
    "turmas['professor_tx_reprovao'] = turmas.id_turma.apply(lambda x: tx_reprovacao_do_professor_por_turma[x] if x in tx_reprovacao_do_professor_por_turma.keys() else -1)"
   ]
  },
  {
   "cell_type": "markdown",
   "metadata": {},
   "source": [
    "### Análise dos professores"
   ]
  },
  {
   "cell_type": "code",
   "execution_count": 11,
   "metadata": {},
   "outputs": [],
   "source": [
    "prof = pd.read_csv(\"data/docentes.csv\", sep=';')"
   ]
  },
  {
   "cell_type": "code",
   "execution_count": 12,
   "metadata": {},
   "outputs": [
    {
     "data": {
      "text/plain": [
       "Index(['id_servidor', 'siape', 'nome', 'formacao', 'tipo_jornada_trabalho',\n",
       "       'vinculo', 'categoria', 'classe_funcional', 'id_unidade_lotacao',\n",
       "       'lotacao', 'admissao'],\n",
       "      dtype='object')"
      ]
     },
     "execution_count": 12,
     "metadata": {},
     "output_type": "execute_result"
    }
   ],
   "source": [
    "prof.columns"
   ]
  },
  {
   "cell_type": "code",
   "execution_count": 13,
   "metadata": {},
   "outputs": [],
   "source": [
    "id_profs = turmas.id_docente_interno.unique()"
   ]
  },
  {
   "cell_type": "code",
   "execution_count": 39,
   "metadata": {
    "scrolled": true
   },
   "outputs": [],
   "source": [
    "# prof[prof.id_servidor.isin(id_profs)]"
   ]
  },
  {
   "cell_type": "code",
   "execution_count": 18,
   "metadata": {},
   "outputs": [],
   "source": [
    "# turmas.id_docente_interno.value_counts()"
   ]
  },
  {
   "cell_type": "markdown",
   "metadata": {},
   "source": [
    "# Feature 2: desempenho_exatas"
   ]
  },
  {
   "cell_type": "code",
   "execution_count": 14,
   "metadata": {},
   "outputs": [],
   "source": [
    "id_turmas_c2 = turmas[turmas.id_componente_curricular.isin(['48584', '57588', '2051052'])].id_turma.unique()\n",
    "\n",
    "matriculas_c2 = matriculas[matriculas.id_turma.isin(id_turmas_c2)]\n",
    "matriculas_anteriores = matriculas[~matriculas.id_turma.isin(id_turmas_c2)]"
   ]
  },
  {
   "cell_type": "code",
   "execution_count": 15,
   "metadata": {},
   "outputs": [],
   "source": [
    "# Pegando apenas nota da primeira unidade\n",
    "matriculas_c2 = matriculas_c2.query(f\"unidade == 1\")"
   ]
  },
  {
   "cell_type": "code",
   "execution_count": 16,
   "metadata": {},
   "outputs": [
    {
     "data": {
      "text/html": [
       "<div>\n",
       "<style scoped>\n",
       "    .dataframe tbody tr th:only-of-type {\n",
       "        vertical-align: middle;\n",
       "    }\n",
       "\n",
       "    .dataframe tbody tr th {\n",
       "        vertical-align: top;\n",
       "    }\n",
       "\n",
       "    .dataframe thead th {\n",
       "        text-align: right;\n",
       "    }\n",
       "</style>\n",
       "<table border=\"1\" class=\"dataframe\">\n",
       "  <thead>\n",
       "    <tr style=\"text-align: right;\">\n",
       "      <th></th>\n",
       "      <th>discente</th>\n",
       "      <th>faltas_unidade</th>\n",
       "      <th>id_turma</th>\n",
       "      <th>media_final</th>\n",
       "      <th>nota</th>\n",
       "      <th>numero_total_faltas</th>\n",
       "      <th>reposicao</th>\n",
       "      <th>unidade</th>\n",
       "      <th>reprovou</th>\n",
       "    </tr>\n",
       "  </thead>\n",
       "  <tbody>\n",
       "    <tr>\n",
       "      <th>126</th>\n",
       "      <td>fe543b1d679707f728a236cb875c7c61</td>\n",
       "      <td>0.0</td>\n",
       "      <td>1242540</td>\n",
       "      <td>0.3</td>\n",
       "      <td>0.8</td>\n",
       "      <td>0.0</td>\n",
       "      <td>f</td>\n",
       "      <td>1.0</td>\n",
       "      <td>True</td>\n",
       "    </tr>\n",
       "    <tr>\n",
       "      <th>130</th>\n",
       "      <td>cc5469b6e213d69cb200e8eee047fd8f</td>\n",
       "      <td>0.0</td>\n",
       "      <td>1242540</td>\n",
       "      <td>1.7</td>\n",
       "      <td>5.0</td>\n",
       "      <td>0.0</td>\n",
       "      <td>f</td>\n",
       "      <td>1.0</td>\n",
       "      <td>True</td>\n",
       "    </tr>\n",
       "    <tr>\n",
       "      <th>132</th>\n",
       "      <td>7dd2fa3dc6ee3344865530775c32b26f</td>\n",
       "      <td>0.0</td>\n",
       "      <td>1242540</td>\n",
       "      <td>6.7</td>\n",
       "      <td>5.8</td>\n",
       "      <td>0.0</td>\n",
       "      <td>f</td>\n",
       "      <td>1.0</td>\n",
       "      <td>False</td>\n",
       "    </tr>\n",
       "    <tr>\n",
       "      <th>135</th>\n",
       "      <td>ec6e87ad0200784564051727ff0fba9a</td>\n",
       "      <td>0.0</td>\n",
       "      <td>1242540</td>\n",
       "      <td>0.0</td>\n",
       "      <td>0.0</td>\n",
       "      <td>0.0</td>\n",
       "      <td>f</td>\n",
       "      <td>1.0</td>\n",
       "      <td>True</td>\n",
       "    </tr>\n",
       "    <tr>\n",
       "      <th>138</th>\n",
       "      <td>b83737d51b0772e9d3bfe336cd379a55</td>\n",
       "      <td>0.0</td>\n",
       "      <td>1242540</td>\n",
       "      <td>1.0</td>\n",
       "      <td>0.6</td>\n",
       "      <td>0.0</td>\n",
       "      <td>f</td>\n",
       "      <td>1.0</td>\n",
       "      <td>True</td>\n",
       "    </tr>\n",
       "  </tbody>\n",
       "</table>\n",
       "</div>"
      ],
      "text/plain": [
       "                             discente  faltas_unidade  id_turma  media_final  \\\n",
       "126  fe543b1d679707f728a236cb875c7c61             0.0   1242540          0.3   \n",
       "130  cc5469b6e213d69cb200e8eee047fd8f             0.0   1242540          1.7   \n",
       "132  7dd2fa3dc6ee3344865530775c32b26f             0.0   1242540          6.7   \n",
       "135  ec6e87ad0200784564051727ff0fba9a             0.0   1242540          0.0   \n",
       "138  b83737d51b0772e9d3bfe336cd379a55             0.0   1242540          1.0   \n",
       "\n",
       "     nota  numero_total_faltas reposicao  unidade  reprovou  \n",
       "126   0.8                  0.0         f      1.0      True  \n",
       "130   5.0                  0.0         f      1.0      True  \n",
       "132   5.8                  0.0         f      1.0     False  \n",
       "135   0.0                  0.0         f      1.0      True  \n",
       "138   0.6                  0.0         f      1.0      True  "
      ]
     },
     "execution_count": 16,
     "metadata": {},
     "output_type": "execute_result"
    }
   ],
   "source": [
    "matriculas_c2.head()"
   ]
  },
  {
   "cell_type": "code",
   "execution_count": 125,
   "metadata": {},
   "outputs": [],
   "source": [
    "# matriculas_c2.at[126, 'desempenho_exatas'] = 2"
   ]
  },
  {
   "cell_type": "code",
   "execution_count": 17,
   "metadata": {},
   "outputs": [],
   "source": [
    "matriculas_c2['desempenho_exatas'] = -1"
   ]
  },
  {
   "cell_type": "code",
   "execution_count": 18,
   "metadata": {},
   "outputs": [],
   "source": [
    "lista_semestres_analisados = [20161, 20162, 20171, 20172]\n",
    "\n",
    "tx_reprovacao_do_professor_por_turma = {}\n",
    "for semestre in lista_semestres_analisados:\n",
    "    turmas_anteriores = turmas.query(f\"ano_periodo < {semestre}\")\n",
    "    matr_antigas = matriculas_anteriores[matriculas_anteriores.id_turma.isin(turmas_anteriores.id_turma.unique())]\n",
    "    \n",
    "    turmas_atuais = turmas.query(f\"ano_periodo == {semestre}\")\n",
    "    matricula_atual = matriculas_c2[matriculas_c2.id_turma.isin(turmas_atuais.id_turma.unique())]\n",
    "    for index, row in matricula_atual.iterrows():\n",
    "        aluno_matr_ant = matr_antigas[matr_antigas.discente == row['discente']]\n",
    "        \n",
    "        \n",
    "        if aluno_matr_ant.shape[0] > 0:\n",
    "            matriculas_c2.at[index, 'desempenho_exatas'] = round(aluno_matr_ant.media_final.mean(), 2)\n",
    "        else:\n",
    "            matriculas_c2.at[index, 'desempenho_exatas'] = -1"
   ]
  },
  {
   "cell_type": "code",
   "execution_count": 19,
   "metadata": {},
   "outputs": [
    {
     "data": {
      "text/plain": [
       "<matplotlib.axes._subplots.AxesSubplot at 0x7f847aa1f8d0>"
      ]
     },
     "execution_count": 19,
     "metadata": {},
     "output_type": "execute_result"
    },
    {
     "data": {
      "image/png": "[encoded data removed]",
      "text/plain": [
       "<Figure size 432x288 with 1 Axes>"
      ]
     },
     "metadata": {
      "needs_background": "light"
     },
     "output_type": "display_data"
    }
   ],
   "source": [
    "matriculas_c2.desempenho_exatas.hist()"
   ]
  },
  {
   "cell_type": "code",
   "execution_count": 41,
   "metadata": {},
   "outputs": [],
   "source": [
    "media_desempenho_exatas = matriculas_c2[matriculas_c2.desempenho_exatas != -1].desempenho_exatas.mean()\n",
    "\n",
    "matriculas_c2.desempenho_exatas = matriculas_c2.desempenho_exatas.apply(lambda x: media_desempenho_exatas if x == -1 else x)"
   ]
  },
  {
   "cell_type": "markdown",
   "metadata": {},
   "source": [
    "# Feature 3: historico_reprovacao\n",
    "taxa de reprovação nas disciplinas de cálculo."
   ]
  },
  {
   "cell_type": "code",
   "execution_count": 20,
   "metadata": {},
   "outputs": [],
   "source": [
    "matriculas_c2['historico_reprovacao'] = -1"
   ]
  },
  {
   "cell_type": "code",
   "execution_count": 21,
   "metadata": {},
   "outputs": [],
   "source": [
    "lista_semestres_analisados = [20161, 20162, 20171, 20172]\n",
    "\n",
    "tx_reprovacao_do_professor_por_turma = {}\n",
    "for semestre in lista_semestres_analisados:\n",
    "    turmas_anteriores = turmas.query(f\"ano_periodo < {semestre}\")\n",
    "    matr_antigas = matriculas[matriculas.id_turma.isin(turmas_anteriores.id_turma.unique())]\n",
    "    \n",
    "    turmas_atuais = turmas.query(f\"ano_periodo == {semestre}\")\n",
    "    matricula_atual = matriculas_c2[matriculas_c2.id_turma.isin(turmas_atuais.id_turma.unique())]\n",
    "    for index, row in matricula_atual.iterrows():\n",
    "        aluno_matr_ant = matr_antigas[matr_antigas.discente == row['discente']]\n",
    "        if aluno_matr_ant.shape[0] > 0:\n",
    "            matriculas_c2.at[index, 'historico_reprovacao'] = sum(aluno_matr_ant.reprovou) / aluno_matr_ant.shape[0]"
   ]
  },
  {
   "cell_type": "code",
   "execution_count": 22,
   "metadata": {},
   "outputs": [
    {
     "data": {
      "text/plain": [
       "<matplotlib.axes._subplots.AxesSubplot at 0x7f84788a50b8>"
      ]
     },
     "execution_count": 22,
     "metadata": {},
     "output_type": "execute_result"
    },
    {
     "data": {
      "image/png": "[encoded data removed]",
      "text/plain": [
       "<Figure size 432x288 with 1 Axes>"
      ]
     },
     "metadata": {
      "needs_background": "light"
     },
     "output_type": "display_data"
    }
   ],
   "source": [
    "matriculas_c2.historico_reprovacao.hist()"
   ]
  },
  {
   "cell_type": "markdown",
   "metadata": {},
   "source": [
    "# Feature 4: primeira_vez_pagando\n",
    "Quantas vezes já pagou C2."
   ]
  },
  {
   "cell_type": "code",
   "execution_count": 23,
   "metadata": {},
   "outputs": [],
   "source": [
    "matriculas_c2['primeira_vez_pagando'] = 0"
   ]
  },
  {
   "cell_type": "code",
   "execution_count": 24,
   "metadata": {},
   "outputs": [],
   "source": [
    "lista_semestres_analisados = [20161, 20162, 20171, 20172]\n",
    "\n",
    "tx_reprovacao_do_professor_por_turma = {}\n",
    "for semestre in lista_semestres_analisados:\n",
    "    turmas_anteriores = turmas.query(f\"ano_periodo < {semestre}\")\n",
    "    matr_antigas = matriculas_c2[matriculas_c2.id_turma.isin(turmas_anteriores.id_turma.unique())]\n",
    "    \n",
    "    turmas_atuais = turmas.query(f\"ano_periodo == {semestre}\")\n",
    "    matricula_atual = matriculas_c2[matriculas_c2.id_turma.isin(turmas_atuais.id_turma.unique())]\n",
    "    for index, row in matricula_atual.iterrows():\n",
    "        aluno_matr_ant = matr_antigas[matr_antigas.discente == row['discente']]\n",
    "        \n",
    "        matriculas_c2.at[index, 'primeira_vez_pagando'] = aluno_matr_ant.shape[0]"
   ]
  },
  {
   "cell_type": "code",
   "execution_count": 25,
   "metadata": {},
   "outputs": [
    {
     "data": {
      "text/plain": [
       "<matplotlib.axes._subplots.AxesSubplot at 0x7f8478831e10>"
      ]
     },
     "execution_count": 25,
     "metadata": {},
     "output_type": "execute_result"
    },
    {
     "data": {
      "image/png": "[encoded data removed]",
      "text/plain": [
       "<Figure size 432x288 with 1 Axes>"
      ]
     },
     "metadata": {
      "needs_background": "light"
     },
     "output_type": "display_data"
    }
   ],
   "source": [
    "matriculas_c2.primeira_vez_pagando.hist()"
   ]
  },
  {
   "cell_type": "markdown",
   "metadata": {},
   "source": [
    "# Feature 5: desvio_padra_para_turma\n",
    "Quão boa foi a nota da primeira unidade, comparado com a nota da turma."
   ]
  },
  {
   "cell_type": "code",
   "execution_count": 26,
   "metadata": {},
   "outputs": [],
   "source": [
    "def nota_em_relacao_a_turma(nota, id_turma):\n",
    "    media_turma = statisticas_turmas['media_final']['mean'][id_turma]\n",
    "    desvio_padrao = statisticas_turmas['media_final']['std'][id_turma]\n",
    "    \n",
    "    if desvio_padrao > 0:\n",
    "        return (nota - media_turma) / desvio_padrao\n",
    "    return (nota - media_turma)"
   ]
  },
  {
   "cell_type": "code",
   "execution_count": 27,
   "metadata": {},
   "outputs": [],
   "source": [
    "matriculas_c2['n1_std_turma'] = matriculas_c2.apply(lambda x: nota_em_relacao_a_turma(x['nota'], x['id_turma']), axis=1)"
   ]
  },
  {
   "cell_type": "markdown",
   "metadata": {},
   "source": [
    "# Feature 6: nota_unidade1"
   ]
  },
  {
   "cell_type": "code",
   "execution_count": 28,
   "metadata": {},
   "outputs": [
    {
     "data": {
      "text/html": [
       "<div>\n",
       "<style scoped>\n",
       "    .dataframe tbody tr th:only-of-type {\n",
       "        vertical-align: middle;\n",
       "    }\n",
       "\n",
       "    .dataframe tbody tr th {\n",
       "        vertical-align: top;\n",
       "    }\n",
       "\n",
       "    .dataframe thead th {\n",
       "        text-align: right;\n",
       "    }\n",
       "</style>\n",
       "<table border=\"1\" class=\"dataframe\">\n",
       "  <thead>\n",
       "    <tr style=\"text-align: right;\">\n",
       "      <th></th>\n",
       "      <th>discente</th>\n",
       "      <th>faltas_unidade</th>\n",
       "      <th>id_turma</th>\n",
       "      <th>media_final</th>\n",
       "      <th>nota</th>\n",
       "      <th>numero_total_faltas</th>\n",
       "      <th>reposicao</th>\n",
       "      <th>unidade</th>\n",
       "      <th>reprovou</th>\n",
       "      <th>desempenho_exatas</th>\n",
       "      <th>historico_reprovacao</th>\n",
       "      <th>primeira_vez_pagando</th>\n",
       "      <th>n1_std_turma</th>\n",
       "    </tr>\n",
       "  </thead>\n",
       "  <tbody>\n",
       "    <tr>\n",
       "      <th>126</th>\n",
       "      <td>fe543b1d679707f728a236cb875c7c61</td>\n",
       "      <td>0.0</td>\n",
       "      <td>1242540</td>\n",
       "      <td>0.3</td>\n",
       "      <td>0.8</td>\n",
       "      <td>0.0</td>\n",
       "      <td>f</td>\n",
       "      <td>1.0</td>\n",
       "      <td>True</td>\n",
       "      <td>-1</td>\n",
       "      <td>-1</td>\n",
       "      <td>0</td>\n",
       "      <td>-0.287914</td>\n",
       "    </tr>\n",
       "    <tr>\n",
       "      <th>130</th>\n",
       "      <td>cc5469b6e213d69cb200e8eee047fd8f</td>\n",
       "      <td>0.0</td>\n",
       "      <td>1242540</td>\n",
       "      <td>1.7</td>\n",
       "      <td>5.0</td>\n",
       "      <td>0.0</td>\n",
       "      <td>f</td>\n",
       "      <td>1.0</td>\n",
       "      <td>True</td>\n",
       "      <td>-1</td>\n",
       "      <td>-1</td>\n",
       "      <td>0</td>\n",
       "      <td>1.535763</td>\n",
       "    </tr>\n",
       "    <tr>\n",
       "      <th>132</th>\n",
       "      <td>7dd2fa3dc6ee3344865530775c32b26f</td>\n",
       "      <td>0.0</td>\n",
       "      <td>1242540</td>\n",
       "      <td>6.7</td>\n",
       "      <td>5.8</td>\n",
       "      <td>0.0</td>\n",
       "      <td>f</td>\n",
       "      <td>1.0</td>\n",
       "      <td>False</td>\n",
       "      <td>-1</td>\n",
       "      <td>-1</td>\n",
       "      <td>0</td>\n",
       "      <td>1.883130</td>\n",
       "    </tr>\n",
       "    <tr>\n",
       "      <th>135</th>\n",
       "      <td>ec6e87ad0200784564051727ff0fba9a</td>\n",
       "      <td>0.0</td>\n",
       "      <td>1242540</td>\n",
       "      <td>0.0</td>\n",
       "      <td>0.0</td>\n",
       "      <td>0.0</td>\n",
       "      <td>f</td>\n",
       "      <td>1.0</td>\n",
       "      <td>True</td>\n",
       "      <td>-1</td>\n",
       "      <td>-1</td>\n",
       "      <td>0</td>\n",
       "      <td>-0.635281</td>\n",
       "    </tr>\n",
       "    <tr>\n",
       "      <th>138</th>\n",
       "      <td>b83737d51b0772e9d3bfe336cd379a55</td>\n",
       "      <td>0.0</td>\n",
       "      <td>1242540</td>\n",
       "      <td>1.0</td>\n",
       "      <td>0.6</td>\n",
       "      <td>0.0</td>\n",
       "      <td>f</td>\n",
       "      <td>1.0</td>\n",
       "      <td>True</td>\n",
       "      <td>-1</td>\n",
       "      <td>-1</td>\n",
       "      <td>0</td>\n",
       "      <td>-0.374756</td>\n",
       "    </tr>\n",
       "  </tbody>\n",
       "</table>\n",
       "</div>"
      ],
      "text/plain": [
       "                             discente  faltas_unidade  id_turma  media_final  \\\n",
       "126  fe543b1d679707f728a236cb875c7c61             0.0   1242540          0.3   \n",
       "130  cc5469b6e213d69cb200e8eee047fd8f             0.0   1242540          1.7   \n",
       "132  7dd2fa3dc6ee3344865530775c32b26f             0.0   1242540          6.7   \n",
       "135  ec6e87ad0200784564051727ff0fba9a             0.0   1242540          0.0   \n",
       "138  b83737d51b0772e9d3bfe336cd379a55             0.0   1242540          1.0   \n",
       "\n",
       "     nota  numero_total_faltas reposicao  unidade  reprovou  \\\n",
       "126   0.8                  0.0         f      1.0      True   \n",
       "130   5.0                  0.0         f      1.0      True   \n",
       "132   5.8                  0.0         f      1.0     False   \n",
       "135   0.0                  0.0         f      1.0      True   \n",
       "138   0.6                  0.0         f      1.0      True   \n",
       "\n",
       "     desempenho_exatas  historico_reprovacao  primeira_vez_pagando  \\\n",
       "126                 -1                    -1                     0   \n",
       "130                 -1                    -1                     0   \n",
       "132                 -1                    -1                     0   \n",
       "135                 -1                    -1                     0   \n",
       "138                 -1                    -1                     0   \n",
       "\n",
       "     n1_std_turma  \n",
       "126     -0.287914  \n",
       "130      1.535763  \n",
       "132      1.883130  \n",
       "135     -0.635281  \n",
       "138     -0.374756  "
      ]
     },
     "execution_count": 28,
     "metadata": {},
     "output_type": "execute_result"
    }
   ],
   "source": [
    "matriculas_c2.head()"
   ]
  },
  {
   "cell_type": "code",
   "execution_count": 91,
   "metadata": {},
   "outputs": [],
   "source": [
    "#matriculas_c2.discente.value_counts()"
   ]
  },
  {
   "cell_type": "code",
   "execution_count": null,
   "metadata": {},
   "outputs": [],
   "source": []
  },
  {
   "cell_type": "code",
   "execution_count": 100,
   "metadata": {},
   "outputs": [
    {
     "data": {
      "text/plain": [
       "<Figure size 1440x576 with 0 Axes>"
      ]
     },
     "execution_count": 100,
     "metadata": {},
     "output_type": "execute_result"
    },
    {
     "data": {
      "image/png": "[encoded data removed]",
      "text/plain": [
       "<Figure size 432x288 with 1 Axes>"
      ]
     },
     "metadata": {
      "needs_background": "light"
     },
     "output_type": "display_data"
    },
    {
     "data": {
      "text/plain": [
       "<Figure size 1440x576 with 0 Axes>"
      ]
     },
     "metadata": {},
     "output_type": "display_data"
    }
   ],
   "source": [
    "colors = ['red' if i else 'blue' for i in matriculas_c2.reprovou]\n",
    "plt.scatter(matriculas_c2.index, matriculas_c2.nota, color=colors)\n",
    "plt.figure(figsize=(20, 8))"
   ]
  },
  {
   "cell_type": "code",
   "execution_count": 149,
   "metadata": {
    "scrolled": true
   },
   "outputs": [
    {
     "data": {
      "text/plain": [
       "(941, 13)"
      ]
     },
     "execution_count": 149,
     "metadata": {},
     "output_type": "execute_result"
    }
   ],
   "source": [
    "matriculas_c2[matriculas_c2.historico_reprovacao == -1].shape"
   ]
  },
  {
   "cell_type": "markdown",
   "metadata": {},
   "source": [
    "## Feature 7: professor_c1"
   ]
  },
  {
   "cell_type": "code",
   "execution_count": 30,
   "metadata": {},
   "outputs": [
    {
     "data": {
      "text/plain": [
       "Index(['id_turma', 'id_componente_curricular', 'id_docente_interno',\n",
       "       'ano_periodo', 'tx_reprovacao', 'professor_tx_reprovao'],\n",
       "      dtype='object')"
      ]
     },
     "execution_count": 30,
     "metadata": {},
     "output_type": "execute_result"
    }
   ],
   "source": [
    "turmas.columns"
   ]
  },
  {
   "cell_type": "code",
   "execution_count": null,
   "metadata": {},
   "outputs": [],
   "source": [
    "matriculas_c2['prof_c1_tx_reprovacao'] = -1"
   ]
  },
  {
   "cell_type": "code",
   "execution_count": 31,
   "metadata": {},
   "outputs": [],
   "source": [
    "lista_semestres_analisados = [20161, 20162, 20171, 20172]\n",
    "\n",
    "tx_reprovacao_do_professor_por_turma = {}\n",
    "for semestre in lista_semestres_analisados:\n",
    "    turmas_anteriores = turmas.query(f\"ano_periodo < {semestre}\")\n",
    "    matr_antigas = matriculas[matriculas.id_turma.isin(turmas_anteriores.id_turma.unique())]\n",
    "    \n",
    "    turmas_atuais = turmas.query(f\"ano_periodo == {semestre}\")\n",
    "    matricula_atual = matriculas_c2[matriculas_c2.id_turma.isin(turmas_atuais.id_turma.unique())]\n",
    "    for index, row in matricula_atual.iterrows():\n",
    "        aluno_matr_ant = matr_antigas[matr_antigas.discente == row['discente']]\n",
    "        aluno_turmas_ant = turmas_anteriores[turmas_anteriores.id_turma.isin(aluno_matr_ant.id_turma.unique())]\n",
    "        aluno_turmas_ant = aluno_turmas_ant[aluno_turmas_ant.id_componente_curricular.isin(['48582', '57587', '2050801'])]\n",
    "        if aluno_turmas_ant.shape[0] > 0:\n",
    "            matriculas_c2.at[index, 'prof_c1_tx_reprovacao'] = aluno_turmas_ant.professor_tx_reprovao.mean()"
   ]
  },
  {
   "cell_type": "code",
   "execution_count": 32,
   "metadata": {},
   "outputs": [
    {
     "data": {
      "text/plain": [
       "<matplotlib.axes._subplots.AxesSubplot at 0x7f84787e4128>"
      ]
     },
     "execution_count": 32,
     "metadata": {},
     "output_type": "execute_result"
    },
    {
     "data": {
      "image/png": "[encoded data removed]",
      "text/plain": [
       "<Figure size 432x288 with 1 Axes>"
      ]
     },
     "metadata": {
      "needs_background": "light"
     },
     "output_type": "display_data"
    }
   ],
   "source": [
    "matriculas_c2.prof_c1_tx_reprovacao.hist()"
   ]
  },
  {
   "cell_type": "code",
   "execution_count": 39,
   "metadata": {
    "scrolled": true
   },
   "outputs": [],
   "source": [
    "media_prof_c1_tx_reprovacao = matriculas_c2[~matriculas_c2.prof_c1_tx_reprovacao.isna()].prof_c1_tx_reprovacao.mean()\n",
    "\n",
    "matriculas_c2.prof_c1_tx_reprovacao.fillna(media_prof_c1_tx_reprovacao, inplace=True)"
   ]
  },
  {
   "cell_type": "markdown",
   "metadata": {},
   "source": [
    "### Adionando a dificuldade do professor"
   ]
  },
  {
   "cell_type": "code",
   "execution_count": 44,
   "metadata": {},
   "outputs": [],
   "source": [
    "matriculas_c2 = pd.merge(matriculas_c2, turmas[['id_turma', 'professor_tx_reprovao']], on='id_turma', how='left')"
   ]
  },
  {
   "cell_type": "markdown",
   "metadata": {},
   "source": [
    "## Exportando os dados"
   ]
  },
  {
   "cell_type": "code",
   "execution_count": 150,
   "metadata": {},
   "outputs": [
    {
     "data": {
      "text/plain": [
       "(2404, 13)"
      ]
     },
     "execution_count": 150,
     "metadata": {},
     "output_type": "execute_result"
    }
   ],
   "source": [
    "matriculas_c2.shape"
   ]
  },
  {
   "cell_type": "code",
   "execution_count": 45,
   "metadata": {},
   "outputs": [],
   "source": [
    "matriculas_c2.to_csv(\"data/matriculas_c2_pos_novos_indicadores.csv\", sep=\";\", index=False)"
   ]
  },
  {
   "cell_type": "code",
   "execution_count": null,
   "metadata": {},
   "outputs": [],
   "source": []
  }
 ],
 "metadata": {
  "kernelspec": {
   "display_name": "Python 3",
   "language": "python",
   "name": "python3"
  },
  "language_info": {
   "codemirror_mode": {
    "name": "ipython",
    "version": 3
   },
   "file_extension": ".py",
   "mimetype": "text/x-python",
   "name": "python",
   "nbconvert_exporter": "python",
   "pygments_lexer": "ipython3",
   "version": "3.6.8"
  }
 },
 "nbformat": 4,
 "nbformat_minor": 2
}
