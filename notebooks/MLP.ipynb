{
 "cells": [
  {
   "cell_type": "markdown",
   "metadata": {},
   "source": [
    "# Preparando o MultiLayer Perceptron\n",
    "Nesse notebook vamos preparar um MLP para prever as reprovações dos alunos de Cálculo 2 na ECT."
   ]
  },
  {
   "cell_type": "code",
   "execution_count": 1,
   "metadata": {},
   "outputs": [],
   "source": [
    "# Importing the libraries\n",
    "import numpy as np\n",
    "import matplotlib.pyplot as plt\n",
    "import pandas as pd"
   ]
  },
  {
   "cell_type": "code",
   "execution_count": 2,
   "metadata": {},
   "outputs": [],
   "source": [
    "# Importando os dados das matriculas\n",
    "matriculas = pd.read_csv(\"data/matriculas_c2_pos_novos_indicadores.csv\", sep=\";\")"
   ]
  },
  {
   "cell_type": "markdown",
   "metadata": {},
   "source": [
    "## Preparando os dados"
   ]
  },
  {
   "cell_type": "code",
   "execution_count": 3,
   "metadata": {},
   "outputs": [],
   "source": [
    "alunos = matriculas[['nota', 'n1_std_turma', 'desempenho_exatas', 'primeira_vez_pagando',\n",
    "       'historico_reprovacao', 'reprovou']]"
   ]
  },
  {
   "cell_type": "markdown",
   "metadata": {},
   "source": [
    "## Criando o modelo\n",
    "Vamos preparar o MLP para rodar com nossos dados"
   ]
  },
  {
   "cell_type": "code",
   "execution_count": 4,
   "metadata": {},
   "outputs": [
    {
     "data": {
      "text/plain": [
       "(2404,)"
      ]
     },
     "execution_count": 4,
     "metadata": {},
     "output_type": "execute_result"
    }
   ],
   "source": [
    "X = alunos.drop(\"reprovou\", axis=1)\n",
    "y = alunos.reprovou.values\n",
    "\n",
    "y.shape"
   ]
  },
  {
   "cell_type": "code",
   "execution_count": 5,
   "metadata": {},
   "outputs": [],
   "source": [
    "# Splitting the dataset into the Training set and Test set\n",
    "from sklearn.model_selection import train_test_split\n",
    "X_train, X_test, y_train, y_test = train_test_split(X, y, test_size = 0.2, random_state = 0)"
   ]
  },
  {
   "cell_type": "code",
   "execution_count": 6,
   "metadata": {},
   "outputs": [],
   "source": [
    "X_train = X_train.values.astype('int32')\n",
    "X_test = X_test.values.astype('int32')"
   ]
  },
  {
   "cell_type": "code",
   "execution_count": 8,
   "metadata": {},
   "outputs": [],
   "source": [
    "# convert class vectors to binary class matrices\n",
    "y_train = keras.utils.to_categorical(y_train, 2)\n",
    "y_test = keras.utils.to_categorical(y_test, 2)"
   ]
  },
  {
   "cell_type": "code",
   "execution_count": 13,
   "metadata": {},
   "outputs": [],
   "source": [
    "# Importing the Keras libraries and packages\n",
    "import keras\n",
    "from keras.models import Sequential\n",
    "from keras.layers import Dense"
   ]
  },
  {
   "cell_type": "code",
   "execution_count": 22,
   "metadata": {},
   "outputs": [],
   "source": [
    "# Initialising the ANN\n",
    "classifier = Sequential()\n",
    "\n",
    "# Adding the input layer and the first hidden layer\n",
    "classifier.add(Dense( activation = 'relu', input_dim = 5, units = 16, kernel_initializer = 'uniform'))\n",
    "\n",
    "# Adding the second hidden layer\n",
    "classifier.add(Dense( activation = 'relu', units = 12, kernel_initializer = 'uniform' ))\n",
    "\n",
    "# Adding the second hidden layer\n",
    "classifier.add(Dense( activation = 'relu', units = 6, kernel_initializer = 'uniform' ))\n",
    "\n",
    "\n",
    "# Adding the output layer\n",
    "classifier.add(Dense( activation = 'sigmoid', units = 2, kernel_initializer = 'uniform'))"
   ]
  },
  {
   "cell_type": "code",
   "execution_count": 23,
   "metadata": {},
   "outputs": [
    {
     "name": "stdout",
     "output_type": "stream",
     "text": [
      "_________________________________________________________________\n",
      "Layer (type)                 Output Shape              Param #   \n",
      "=================================================================\n",
      "dense_12 (Dense)             (None, 16)                96        \n",
      "_________________________________________________________________\n",
      "dense_13 (Dense)             (None, 12)                204       \n",
      "_________________________________________________________________\n",
      "dense_14 (Dense)             (None, 6)                 78        \n",
      "_________________________________________________________________\n",
      "dense_15 (Dense)             (None, 2)                 14        \n",
      "=================================================================\n",
      "Total params: 392\n",
      "Trainable params: 392\n",
      "Non-trainable params: 0\n",
      "_________________________________________________________________\n"
     ]
    }
   ],
   "source": [
    "classifier.summary()"
   ]
  },
  {
   "cell_type": "code",
   "execution_count": 24,
   "metadata": {},
   "outputs": [],
   "source": [
    "from keras.optimizers import RMSprop\n",
    "\n",
    "classifier.compile(loss='categorical_crossentropy',\n",
    "              optimizer=RMSprop(),\n",
    "              metrics=['accuracy'])"
   ]
  },
  {
   "cell_type": "code",
   "execution_count": 25,
   "metadata": {},
   "outputs": [
    {
     "name": "stdout",
     "output_type": "stream",
     "text": [
      "Train on 1923 samples, validate on 481 samples\n",
      "Epoch 1/20\n",
      "1923/1923 [==============================] - 0s 199us/step - loss: 0.6929 - acc: 0.5159 - val_loss: 0.6926 - val_acc: 0.5031\n",
      "Epoch 2/20\n",
      "1923/1923 [==============================] - 0s 19us/step - loss: 0.6911 - acc: 0.5325 - val_loss: 0.6896 - val_acc: 0.6798\n",
      "Epoch 3/20\n",
      "1923/1923 [==============================] - 0s 22us/step - loss: 0.6870 - acc: 0.7613 - val_loss: 0.6837 - val_acc: 0.7838\n",
      "Epoch 4/20\n",
      "1923/1923 [==============================] - 0s 21us/step - loss: 0.6784 - acc: 0.8045 - val_loss: 0.6710 - val_acc: 0.7817\n",
      "Epoch 5/20\n",
      "1923/1923 [==============================] - 0s 15us/step - loss: 0.6642 - acc: 0.7925 - val_loss: 0.6551 - val_acc: 0.7775\n",
      "Epoch 6/20\n",
      "1923/1923 [==============================] - 0s 17us/step - loss: 0.6454 - acc: 0.7780 - val_loss: 0.6350 - val_acc: 0.7838\n",
      "Epoch 7/20\n",
      "1923/1923 [==============================] - 0s 21us/step - loss: 0.6247 - acc: 0.7858 - val_loss: 0.6137 - val_acc: 0.7568\n",
      "Epoch 8/20\n",
      "1923/1923 [==============================] - 0s 23us/step - loss: 0.6022 - acc: 0.7748 - val_loss: 0.5860 - val_acc: 0.7817\n",
      "Epoch 9/20\n",
      "1923/1923 [==============================] - 0s 22us/step - loss: 0.5762 - acc: 0.7821 - val_loss: 0.5617 - val_acc: 0.7879\n",
      "Epoch 10/20\n",
      "1923/1923 [==============================] - 0s 20us/step - loss: 0.5539 - acc: 0.7889 - val_loss: 0.5411 - val_acc: 0.7983\n",
      "Epoch 11/20\n",
      "1923/1923 [==============================] - 0s 20us/step - loss: 0.5360 - acc: 0.7982 - val_loss: 0.5220 - val_acc: 0.8046\n",
      "Epoch 12/20\n",
      "1923/1923 [==============================] - 0s 20us/step - loss: 0.5172 - acc: 0.8014 - val_loss: 0.5059 - val_acc: 0.8046\n",
      "Epoch 13/20\n",
      "1923/1923 [==============================] - 0s 14us/step - loss: 0.5014 - acc: 0.8081 - val_loss: 0.4890 - val_acc: 0.8046\n",
      "Epoch 14/20\n",
      "1923/1923 [==============================] - 0s 17us/step - loss: 0.4859 - acc: 0.8138 - val_loss: 0.4763 - val_acc: 0.8108\n",
      "Epoch 15/20\n",
      "1923/1923 [==============================] - 0s 21us/step - loss: 0.4730 - acc: 0.8185 - val_loss: 0.4612 - val_acc: 0.8046\n",
      "Epoch 16/20\n",
      "1923/1923 [==============================] - 0s 22us/step - loss: 0.4595 - acc: 0.8206 - val_loss: 0.4575 - val_acc: 0.8025\n",
      "Epoch 17/20\n",
      "1923/1923 [==============================] - 0s 22us/step - loss: 0.4512 - acc: 0.8170 - val_loss: 0.4504 - val_acc: 0.8004\n",
      "Epoch 18/20\n",
      "1923/1923 [==============================] - 0s 20us/step - loss: 0.4427 - acc: 0.8196 - val_loss: 0.4369 - val_acc: 0.8067\n",
      "Epoch 19/20\n",
      "1923/1923 [==============================] - 0s 16us/step - loss: 0.4343 - acc: 0.8201 - val_loss: 0.4348 - val_acc: 0.8067\n",
      "Epoch 20/20\n",
      "1923/1923 [==============================] - 0s 20us/step - loss: 0.4301 - acc: 0.8180 - val_loss: 0.4326 - val_acc: 0.7963\n"
     ]
    }
   ],
   "source": [
    "history = classifier.fit(X_train, y_train,\n",
    "                    batch_size=128,\n",
    "                    epochs=20,\n",
    "                    verbose=1,\n",
    "                    validation_data=(X_test, y_test))"
   ]
  },
  {
   "cell_type": "code",
   "execution_count": null,
   "metadata": {},
   "outputs": [],
   "source": []
  }
 ],
 "metadata": {
  "kernelspec": {
   "display_name": "Python 3",
   "language": "python",
   "name": "python3"
  },
  "language_info": {
   "codemirror_mode": {
    "name": "ipython",
    "version": 3
   },
   "file_extension": ".py",
   "mimetype": "text/x-python",
   "name": "python",
   "nbconvert_exporter": "python",
   "pygments_lexer": "ipython3",
   "version": "3.6.8"
  }
 },
 "nbformat": 4,
 "nbformat_minor": 2
}
